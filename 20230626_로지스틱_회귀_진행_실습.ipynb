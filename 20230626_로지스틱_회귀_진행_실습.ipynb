{
  "nbformat": 4,
  "nbformat_minor": 0,
  "metadata": {
    "colab": {
      "provenance": [],
      "authorship_tag": "ABX9TyPeD8jHBJxtfvR3b0BOA3la",
      "include_colab_link": true
    },
    "kernelspec": {
      "name": "python3",
      "display_name": "Python 3"
    },
    "language_info": {
      "name": "python"
    }
  },
  "cells": [
    {
      "cell_type": "markdown",
      "metadata": {
        "id": "view-in-github",
        "colab_type": "text"
      },
      "source": [
        "<a href=\"https://colab.research.google.com/github/J-o-y-y/ms_ai_school/blob/main/20230626_%EB%A1%9C%EC%A7%80%EC%8A%A4%ED%8B%B1_%ED%9A%8C%EA%B7%80_%EC%A7%84%ED%96%89_%EC%8B%A4%EC%8A%B5.ipynb\" target=\"_parent\"><img src=\"https://colab.research.google.com/assets/colab-badge.svg\" alt=\"Open In Colab\"/></a>"
      ]
    },
    {
      "cell_type": "code",
      "execution_count": null,
      "metadata": {
        "id": "iXo-geVeXcLy"
      },
      "outputs": [],
      "source": [
        "# 공개되어 있는 데이터를 가지고 로지스틱 회귀 진행 실습\n",
        "\n",
        "- 각 이미지 크기는 28 x 28 / 흑백 이미지 / 총 10개의 클래스"
      ]
    },
    {
      "cell_type": "code",
      "source": [
        "\"\"\"\n",
        "Fashion-MNIST 라벨 구성 요소\n",
        "0 - 티셔츠\n",
        "1 - 바지\n",
        "2 - 스웨터\n",
        "3 - 드레스\n",
        "4 - 코트\n",
        "5 - 샌들\n",
        "6 - 셔츠\n",
        "7 - 운동화\n",
        "8 - 가방\n",
        "9 - 앵글 부츠\n",
        "\"\"\"\n",
        "\n",
        "import torch\n",
        "import torch.nn as nn\n",
        "import torch.optim as optim\n",
        "import torchvision.datasets as dataset\n",
        "import torchvision.transforms as transforms\n",
        "import matplotlib.pyplot as plt"
      ],
      "metadata": {
        "id": "3g5j2YRcXhuT"
      },
      "execution_count": 13,
      "outputs": []
    },
    {
      "cell_type": "code",
      "source": [
        "# 데이터셋 다운로드 하고 Dataloader 생성하기"
      ],
      "metadata": {
        "id": "Ghm2qM_CXj7g"
      },
      "execution_count": null,
      "outputs": []
    },
    {
      "cell_type": "code",
      "source": [
        "import torchvision.datasets as dataset"
      ],
      "metadata": {
        "id": "djqbM4ur4jrg"
      },
      "execution_count": 16,
      "outputs": []
    },
    {
      "cell_type": "code",
      "source": [
        "# 데이터셋 다운로드 및 Dataloader 생성\n",
        "train_dataset = dataset.FashionMNIST(root=\"./data\", train=True, transform=transforms.ToTensor(),download=True)\n",
        "test_dataset = dataset.FashionMNIST(root=\"./data\", train=False, transform=transforms.ToTensor(),download=False)"
      ],
      "metadata": {
        "colab": {
          "base_uri": "https://localhost:8080/"
        },
        "id": "K2ykLjUuXn45",
        "outputId": "211e0920-ecf1-418b-ee68-059fd2eedd79"
      },
      "execution_count": 19,
      "outputs": [
        {
          "output_type": "stream",
          "name": "stdout",
          "text": [
            "Downloading http://fashion-mnist.s3-website.eu-central-1.amazonaws.com/train-images-idx3-ubyte.gz\n",
            "Downloading http://fashion-mnist.s3-website.eu-central-1.amazonaws.com/train-images-idx3-ubyte.gz to ./data/FashionMNIST/raw/train-images-idx3-ubyte.gz\n"
          ]
        },
        {
          "output_type": "stream",
          "name": "stderr",
          "text": [
            "100%|██████████| 26421880/26421880 [00:02<00:00, 11752384.03it/s]\n"
          ]
        },
        {
          "output_type": "stream",
          "name": "stdout",
          "text": [
            "Extracting ./data/FashionMNIST/raw/train-images-idx3-ubyte.gz to ./data/FashionMNIST/raw\n",
            "\n",
            "Downloading http://fashion-mnist.s3-website.eu-central-1.amazonaws.com/train-labels-idx1-ubyte.gz\n",
            "Downloading http://fashion-mnist.s3-website.eu-central-1.amazonaws.com/train-labels-idx1-ubyte.gz to ./data/FashionMNIST/raw/train-labels-idx1-ubyte.gz\n"
          ]
        },
        {
          "output_type": "stream",
          "name": "stderr",
          "text": [
            "100%|██████████| 29515/29515 [00:00<00:00, 200497.02it/s]\n"
          ]
        },
        {
          "output_type": "stream",
          "name": "stdout",
          "text": [
            "Extracting ./data/FashionMNIST/raw/train-labels-idx1-ubyte.gz to ./data/FashionMNIST/raw\n",
            "\n",
            "Downloading http://fashion-mnist.s3-website.eu-central-1.amazonaws.com/t10k-images-idx3-ubyte.gz\n",
            "Downloading http://fashion-mnist.s3-website.eu-central-1.amazonaws.com/t10k-images-idx3-ubyte.gz to ./data/FashionMNIST/raw/t10k-images-idx3-ubyte.gz\n"
          ]
        },
        {
          "output_type": "stream",
          "name": "stderr",
          "text": [
            "100%|██████████| 4422102/4422102 [00:01<00:00, 3714629.69it/s]\n"
          ]
        },
        {
          "output_type": "stream",
          "name": "stdout",
          "text": [
            "Extracting ./data/FashionMNIST/raw/t10k-images-idx3-ubyte.gz to ./data/FashionMNIST/raw\n",
            "\n",
            "Downloading http://fashion-mnist.s3-website.eu-central-1.amazonaws.com/t10k-labels-idx1-ubyte.gz\n",
            "Downloading http://fashion-mnist.s3-website.eu-central-1.amazonaws.com/t10k-labels-idx1-ubyte.gz to ./data/FashionMNIST/raw/t10k-labels-idx1-ubyte.gz\n"
          ]
        },
        {
          "output_type": "stream",
          "name": "stderr",
          "text": [
            "100%|██████████| 5148/5148 [00:00<00:00, 5527976.70it/s]"
          ]
        },
        {
          "output_type": "stream",
          "name": "stdout",
          "text": [
            "Extracting ./data/FashionMNIST/raw/t10k-labels-idx1-ubyte.gz to ./data/FashionMNIST/raw\n",
            "\n"
          ]
        },
        {
          "output_type": "stream",
          "name": "stderr",
          "text": [
            "\n"
          ]
        }
      ]
    },
    {
      "cell_type": "code",
      "source": [
        "# train Loader test Loader 설정\n",
        "train_loader = torch.utils.data.DataLoader(dataset=train_dataset, batch_size = 100, shuffle=True)\n",
        "test_loader = torch.utils.data.DataLoader(dataset=test_dataset, batch_size = 1, shuffle=False)"
      ],
      "metadata": {
        "id": "A-ofdCtf5DxR"
      },
      "execution_count": 21,
      "outputs": []
    },
    {
      "cell_type": "code",
      "source": [
        "# 모델 정의"
      ],
      "metadata": {
        "id": "yM176_Z7Xpbl"
      },
      "execution_count": null,
      "outputs": []
    },
    {
      "cell_type": "code",
      "source": [
        "class LogisticRegression(nn.Module) :\n",
        "    def __init__(self, input_size, num_classes) :\n",
        "        super(LogisticRegression, self).__init__()\n",
        "        self.linear = nn.Linear(input_size, num_classes)\n",
        "\n",
        "    def forward(self, x) :\n",
        "        out = self.linear(x)\n",
        "        return out"
      ],
      "metadata": {
        "id": "JQYjbwOjYgFh"
      },
      "execution_count": 22,
      "outputs": []
    },
    {
      "cell_type": "code",
      "source": [
        "# 하이퍼 파라미터 설정"
      ],
      "metadata": {
        "id": "bxvQ3Z3iYg3E"
      },
      "execution_count": null,
      "outputs": []
    },
    {
      "cell_type": "code",
      "source": [
        "input_size = 28 * 28\n",
        "num_classes = 10\n",
        "num_epochs = 10\n",
        "lr = 0.001\n",
        "\n",
        "total_step = len(train_loader)"
      ],
      "metadata": {
        "id": "vhforS0SYigs"
      },
      "execution_count": 23,
      "outputs": []
    },
    {
      "cell_type": "code",
      "source": [
        "# 모델, Loss, 옵티마이저 정의"
      ],
      "metadata": {
        "id": "9tr4wNn3YjSz"
      },
      "execution_count": null,
      "outputs": []
    },
    {
      "cell_type": "code",
      "source": [
        "model = LogisticRegression(input_size=input_size, num_classes=num_classes)\n",
        "# print(model)\n",
        "criterion = nn.CrossEntropyLoss()\n",
        "optimizer = optim.SGD(model.parameters(), lr=lr, momentum=0.9)\n",
        "\n",
        "# device setting\n",
        "device = torch.device('cuda' if torch.cuda.is_available() else 'cpu')\n",
        "print(\"Using Device >>\" , device)\n",
        "\n",
        "model.to(device)"
      ],
      "metadata": {
        "colab": {
          "base_uri": "https://localhost:8080/"
        },
        "id": "b3fB0HN7YlS9",
        "outputId": "985ef689-30f4-44ca-eb04-fcedba083312"
      },
      "execution_count": 24,
      "outputs": [
        {
          "output_type": "stream",
          "name": "stdout",
          "text": [
            "Using Device >> cpu\n"
          ]
        },
        {
          "output_type": "execute_result",
          "data": {
            "text/plain": [
              "LogisticRegression(\n",
              "  (linear): Linear(in_features=784, out_features=10, bias=True)\n",
              ")"
            ]
          },
          "metadata": {},
          "execution_count": 24
        }
      ]
    },
    {
      "cell_type": "code",
      "source": [
        "# train loop"
      ],
      "metadata": {
        "id": "5NQDf6RHYmVf"
      },
      "execution_count": null,
      "outputs": []
    },
    {
      "cell_type": "code",
      "source": [
        "loss_list = []\n",
        "acc_list = []\n",
        "\n",
        "for epoch in range(num_epochs) :\n",
        "    correct = 0\n",
        "    total = 0\n",
        "    for i, (images, labels) in enumerate(train_loader) :\n",
        "        # 데이터 로드\n",
        "        images = images.reshape(-1, input_size).to(device)\n",
        "        labels = labels.to(device)\n",
        "\n",
        "        optimizer.zero_grad()\n",
        "\n",
        "        # 순전파 및 Loss 계산\n",
        "        ouptuts = model(images)\n",
        "        loss = criterion(ouptuts, labels)\n",
        "\n",
        "        # 역전파 및 가중치 업데이트\n",
        "        loss.backward()\n",
        "        optimizer.step()\n",
        "\n",
        "        # 로그 출력\n",
        "        if (i+1) % 100 == 0 :\n",
        "            loss_list.append(loss.item())\n",
        "            _, predicted = torch.max(ouptuts.data, 1)\n",
        "            total += labels.size(0)\n",
        "            correct += (predicted == labels).sum().item()\n",
        "            acc_list.append(correct / total)\n",
        "\n",
        "            print(\"Epoch [{}/{}], Step [{}/{}], Loss : {:.4f}, Train ACC : {:.4f}\".format(\n",
        "                epoch+1, num_epochs, i+1, total_step, loss.item(), acc_list[-1]))\n",
        "\n",
        "\n",
        "# 손실 및 정확도 그래프 출력\n",
        "plt.plot(loss_list, label=\"Train loss\")\n",
        "plt.plot(acc_list, label=\"Train acc\")\n",
        "plt.xlabel('Iterations')\n",
        "plt.ylabel('Loss / ACC')\n",
        "plt.legend()\n",
        "plt.show()"
      ],
      "metadata": {
        "colab": {
          "base_uri": "https://localhost:8080/",
          "height": 1000
        },
        "id": "xAZTpFbYYoM-",
        "outputId": "936586c3-4649-4aba-d62f-b58285f88193"
      },
      "execution_count": 25,
      "outputs": [
        {
          "output_type": "stream",
          "name": "stdout",
          "text": [
            "Epoch [1/10], Step [100/600], Loss : 1.2935, Train ACC : 0.6800\n",
            "Epoch [1/10], Step [200/600], Loss : 1.0668, Train ACC : 0.6850\n",
            "Epoch [1/10], Step [300/600], Loss : 0.8613, Train ACC : 0.6900\n",
            "Epoch [1/10], Step [400/600], Loss : 0.8871, Train ACC : 0.6900\n",
            "Epoch [1/10], Step [500/600], Loss : 0.8103, Train ACC : 0.7020\n",
            "Epoch [1/10], Step [600/600], Loss : 0.7662, Train ACC : 0.7133\n",
            "Epoch [2/10], Step [100/600], Loss : 0.7937, Train ACC : 0.7000\n",
            "Epoch [2/10], Step [200/600], Loss : 0.7377, Train ACC : 0.7350\n",
            "Epoch [2/10], Step [300/600], Loss : 0.8056, Train ACC : 0.7400\n",
            "Epoch [2/10], Step [400/600], Loss : 0.6505, Train ACC : 0.7700\n",
            "Epoch [2/10], Step [500/600], Loss : 0.7249, Train ACC : 0.7620\n",
            "Epoch [2/10], Step [600/600], Loss : 0.6343, Train ACC : 0.7633\n",
            "Epoch [3/10], Step [100/600], Loss : 0.6061, Train ACC : 0.8300\n",
            "Epoch [3/10], Step [200/600], Loss : 0.6140, Train ACC : 0.8100\n",
            "Epoch [3/10], Step [300/600], Loss : 0.6408, Train ACC : 0.8267\n",
            "Epoch [3/10], Step [400/600], Loss : 0.5340, Train ACC : 0.8350\n",
            "Epoch [3/10], Step [500/600], Loss : 0.7019, Train ACC : 0.8200\n",
            "Epoch [3/10], Step [600/600], Loss : 0.6010, Train ACC : 0.8183\n",
            "Epoch [4/10], Step [100/600], Loss : 0.5790, Train ACC : 0.8500\n",
            "Epoch [4/10], Step [200/600], Loss : 0.5348, Train ACC : 0.8650\n",
            "Epoch [4/10], Step [300/600], Loss : 0.6565, Train ACC : 0.8300\n",
            "Epoch [4/10], Step [400/600], Loss : 0.5763, Train ACC : 0.8300\n",
            "Epoch [4/10], Step [500/600], Loss : 0.5254, Train ACC : 0.8320\n",
            "Epoch [4/10], Step [600/600], Loss : 0.5762, Train ACC : 0.8333\n",
            "Epoch [5/10], Step [100/600], Loss : 0.6231, Train ACC : 0.7700\n",
            "Epoch [5/10], Step [200/600], Loss : 0.7849, Train ACC : 0.7750\n",
            "Epoch [5/10], Step [300/600], Loss : 0.6621, Train ACC : 0.7733\n",
            "Epoch [5/10], Step [400/600], Loss : 0.5292, Train ACC : 0.7925\n",
            "Epoch [5/10], Step [500/600], Loss : 0.7223, Train ACC : 0.7940\n",
            "Epoch [5/10], Step [600/600], Loss : 0.6677, Train ACC : 0.7950\n",
            "Epoch [6/10], Step [100/600], Loss : 0.5459, Train ACC : 0.8200\n",
            "Epoch [6/10], Step [200/600], Loss : 0.6242, Train ACC : 0.8050\n",
            "Epoch [6/10], Step [300/600], Loss : 0.6747, Train ACC : 0.8067\n",
            "Epoch [6/10], Step [400/600], Loss : 0.4863, Train ACC : 0.8200\n",
            "Epoch [6/10], Step [500/600], Loss : 0.7624, Train ACC : 0.8080\n",
            "Epoch [6/10], Step [600/600], Loss : 0.6679, Train ACC : 0.8050\n",
            "Epoch [7/10], Step [100/600], Loss : 0.5874, Train ACC : 0.7900\n",
            "Epoch [7/10], Step [200/600], Loss : 0.5620, Train ACC : 0.7950\n",
            "Epoch [7/10], Step [300/600], Loss : 0.5747, Train ACC : 0.8000\n",
            "Epoch [7/10], Step [400/600], Loss : 0.4333, Train ACC : 0.8225\n",
            "Epoch [7/10], Step [500/600], Loss : 0.7084, Train ACC : 0.8120\n",
            "Epoch [7/10], Step [600/600], Loss : 0.5814, Train ACC : 0.8117\n",
            "Epoch [8/10], Step [100/600], Loss : 0.5763, Train ACC : 0.8200\n",
            "Epoch [8/10], Step [200/600], Loss : 0.5664, Train ACC : 0.8150\n",
            "Epoch [8/10], Step [300/600], Loss : 0.5196, Train ACC : 0.8067\n",
            "Epoch [8/10], Step [400/600], Loss : 0.6193, Train ACC : 0.8075\n",
            "Epoch [8/10], Step [500/600], Loss : 0.4622, Train ACC : 0.8180\n",
            "Epoch [8/10], Step [600/600], Loss : 0.4519, Train ACC : 0.8233\n",
            "Epoch [9/10], Step [100/600], Loss : 0.6033, Train ACC : 0.7500\n",
            "Epoch [9/10], Step [200/600], Loss : 0.5315, Train ACC : 0.8150\n",
            "Epoch [9/10], Step [300/600], Loss : 0.4652, Train ACC : 0.8233\n",
            "Epoch [9/10], Step [400/600], Loss : 0.6553, Train ACC : 0.8025\n",
            "Epoch [9/10], Step [500/600], Loss : 0.3973, Train ACC : 0.8200\n",
            "Epoch [9/10], Step [600/600], Loss : 0.5009, Train ACC : 0.8300\n",
            "Epoch [10/10], Step [100/600], Loss : 0.6041, Train ACC : 0.8000\n",
            "Epoch [10/10], Step [200/600], Loss : 0.4227, Train ACC : 0.8450\n",
            "Epoch [10/10], Step [300/600], Loss : 0.5934, Train ACC : 0.8433\n",
            "Epoch [10/10], Step [400/600], Loss : 0.5718, Train ACC : 0.8300\n",
            "Epoch [10/10], Step [500/600], Loss : 0.6578, Train ACC : 0.8220\n",
            "Epoch [10/10], Step [600/600], Loss : 0.6017, Train ACC : 0.8183\n"
          ]
        },
        {
          "output_type": "display_data",
          "data": {
            "text/plain": [
              "<Figure size 640x480 with 1 Axes>"
            ],
            "image/png": "[encoded data removed]"
          },
          "metadata": {}
        }
      ]
    }
  ]
}
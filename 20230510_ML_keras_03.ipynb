{
  "nbformat": 4,
  "nbformat_minor": 0,
  "metadata": {
    "colab": {
      "provenance": [],
      "include_colab_link": true
    },
    "kernelspec": {
      "name": "python3",
      "display_name": "Python 3"
    },
    "language_info": {
      "name": "python"
    }
  },
  "cells": [
    {
      "cell_type": "markdown",
      "metadata": {
        "id": "view-in-github",
        "colab_type": "text"
      },
      "source": [
        "<a href=\"https://colab.research.google.com/github/J-o-y-y/ms_ai_school/blob/main/20230510_ML_keras_03.ipynb\" target=\"_parent\"><img src=\"https://colab.research.google.com/assets/colab-badge.svg\" alt=\"Open In Colab\"/></a>"
      ]
    },
    {
      "cell_type": "code",
      "execution_count": null,
      "metadata": {
        "colab": {
          "base_uri": "https://localhost:8080/"
        },
        "id": "S7Se5nLgjj1-",
        "outputId": "d87830aa-5d9a-47bb-d6af-160bfb897e5a"
      },
      "outputs": [
        {
          "output_type": "stream",
          "name": "stdout",
          "text": [
            "Downloading data from https://storage.googleapis.com/tensorflow/tf-keras-datasets/reuters.npz\n",
            "2110848/2110848 [==============================] - 0s 0us/step\n"
          ]
        }
      ],
      "source": [
        "from keras.datasets import reuters\n",
        "(train_data, train_labels),(test_data, test_labels) = reuters.load_data(num_words=10000)"
      ]
    },
    {
      "cell_type": "code",
      "source": [
        "print(train_data.shape)\n",
        "print(test_data.shape)"
      ],
      "metadata": {
        "colab": {
          "base_uri": "https://localhost:8080/"
        },
        "id": "GSipSQFzl7aC",
        "outputId": "f5a862d5-8ad9-4a08-a876-4337bf54b746"
      },
      "execution_count": null,
      "outputs": [
        {
          "output_type": "stream",
          "name": "stdout",
          "text": [
            "(8982,)\n",
            "(2246,)\n"
          ]
        }
      ]
    },
    {
      "cell_type": "code",
      "source": [
        "import numpy as np\n",
        "\n",
        "def vectorize_sequences(sequences, dimension=10000):\n",
        "  results = np.zeros((len(sequences), dimension))\n",
        "\n",
        "  for i, sequence in enumerate(sequences):\n",
        "    results[i, sequence] = 1\n",
        "  \n",
        "  return results"
      ],
      "metadata": {
        "id": "tZ0xGroBmdQo"
      },
      "execution_count": null,
      "outputs": []
    },
    {
      "cell_type": "code",
      "source": [
        "# 훈련데이터와 테스트 데이터의 벡터 변환 \n",
        "x_train = vectorize_sequences(train_data)\n",
        "x_test = vectorize_sequences(test_data)"
      ],
      "metadata": {
        "id": "J8qwSN4Mm2gw"
      },
      "execution_count": null,
      "outputs": []
    },
    {
      "cell_type": "code",
      "source": [
        "# 라벨 데이터를 카테고리 데이터로 전환 \n",
        "from keras.utils.np_utils import to_categorical\n",
        "\n",
        "one_hot_train_labels = to_categorical(train_labels)\n",
        "one_hot_test_labels = to_categorical(test_labels)"
      ],
      "metadata": {
        "id": "1jkwhVOqo562"
      },
      "execution_count": null,
      "outputs": []
    },
    {
      "cell_type": "code",
      "source": [
        "# 모델 구성\n",
        "from keras import models\n",
        "from keras import layers\n",
        "\n",
        "model = models.Sequential()\n",
        "model.add(layers.Dense(64, activation='relu', input_shape=(10000,)))\n",
        "model.add(layers.Dense(64, activation='relu'))\n",
        "model.add(layers.Dense(46, activation='softmax'))"
      ],
      "metadata": {
        "id": "YODL8DLzpgw4"
      },
      "execution_count": null,
      "outputs": []
    },
    {
      "cell_type": "code",
      "source": [
        "model.compile(optimizer='rmsprop',\n",
        "             loss='categorical_crossentropy',\n",
        "             metrics=['accuracy'])"
      ],
      "metadata": {
        "id": "fK6CgvXPCbow"
      },
      "execution_count": null,
      "outputs": []
    },
    {
      "cell_type": "code",
      "source": [
        "x_val = x_train[:1000]\n",
        "partial_x_train = x_train[1000:]\n",
        "y_val = one_hot_train_labels[:1000]\n",
        "partial_y_train = one_hot_train_labels[1000:]"
      ],
      "metadata": {
        "id": "R9L0VEqfCund"
      },
      "execution_count": null,
      "outputs": []
    },
    {
      "cell_type": "code",
      "source": [
        "history = model.fit(partial_x_train, \n",
        "                    partial_y_train,\n",
        "                    epochs=20,\n",
        "                    batch_size=512,\n",
        "                    validation_data=(x_val, y_val))"
      ],
      "metadata": {
        "colab": {
          "base_uri": "https://localhost:8080/"
        },
        "id": "qxZbu00-ED_8",
        "outputId": "6731ff41-1a96-494d-bb56-518ce32584a5"
      },
      "execution_count": null,
      "outputs": [
        {
          "output_type": "stream",
          "name": "stdout",
          "text": [
            "Epoch 1/20\n",
            "16/16 [==============================] - 2s 80ms/step - loss: 2.6554 - accuracy: 0.5159 - val_loss: 1.8070 - val_accuracy: 0.6120\n",
            "Epoch 2/20\n",
            "16/16 [==============================] - 1s 44ms/step - loss: 1.5197 - accuracy: 0.6849 - val_loss: 1.3832 - val_accuracy: 0.6890\n",
            "Epoch 3/20\n",
            "16/16 [==============================] - 1s 45ms/step - loss: 1.1713 - accuracy: 0.7534 - val_loss: 1.2160 - val_accuracy: 0.7310\n",
            "Epoch 4/20\n",
            "16/16 [==============================] - 1s 46ms/step - loss: 0.9638 - accuracy: 0.7943 - val_loss: 1.1071 - val_accuracy: 0.7570\n",
            "Epoch 5/20\n",
            "16/16 [==============================] - 1s 46ms/step - loss: 0.7970 - accuracy: 0.8324 - val_loss: 1.0314 - val_accuracy: 0.7800\n",
            "Epoch 6/20\n",
            "16/16 [==============================] - 1s 58ms/step - loss: 0.6684 - accuracy: 0.8571 - val_loss: 0.9952 - val_accuracy: 0.7820\n",
            "Epoch 7/20\n",
            "16/16 [==============================] - 1s 80ms/step - loss: 0.5594 - accuracy: 0.8794 - val_loss: 0.9362 - val_accuracy: 0.8010\n",
            "Epoch 8/20\n",
            "16/16 [==============================] - 1s 87ms/step - loss: 0.4675 - accuracy: 0.9018 - val_loss: 0.9394 - val_accuracy: 0.8030\n",
            "Epoch 9/20\n",
            "16/16 [==============================] - 1s 46ms/step - loss: 0.3972 - accuracy: 0.9157 - val_loss: 0.9118 - val_accuracy: 0.8210\n",
            "Epoch 10/20\n",
            "16/16 [==============================] - 1s 46ms/step - loss: 0.3390 - accuracy: 0.9286 - val_loss: 0.8808 - val_accuracy: 0.8230\n",
            "Epoch 11/20\n",
            "16/16 [==============================] - 1s 46ms/step - loss: 0.2901 - accuracy: 0.9360 - val_loss: 0.8911 - val_accuracy: 0.8190\n",
            "Epoch 12/20\n",
            "16/16 [==============================] - 1s 43ms/step - loss: 0.2541 - accuracy: 0.9436 - val_loss: 0.8970 - val_accuracy: 0.8180\n",
            "Epoch 13/20\n",
            "16/16 [==============================] - 1s 45ms/step - loss: 0.2222 - accuracy: 0.9474 - val_loss: 0.9230 - val_accuracy: 0.8050\n",
            "Epoch 14/20\n",
            "16/16 [==============================] - 1s 46ms/step - loss: 0.2038 - accuracy: 0.9483 - val_loss: 0.9114 - val_accuracy: 0.8100\n",
            "Epoch 15/20\n",
            "16/16 [==============================] - 1s 46ms/step - loss: 0.1798 - accuracy: 0.9523 - val_loss: 0.9428 - val_accuracy: 0.8220\n",
            "Epoch 16/20\n",
            "16/16 [==============================] - 1s 47ms/step - loss: 0.1710 - accuracy: 0.9529 - val_loss: 0.9348 - val_accuracy: 0.8210\n",
            "Epoch 17/20\n",
            "16/16 [==============================] - 1s 45ms/step - loss: 0.1586 - accuracy: 0.9540 - val_loss: 0.9408 - val_accuracy: 0.8130\n",
            "Epoch 18/20\n",
            "16/16 [==============================] - 1s 45ms/step - loss: 0.1455 - accuracy: 0.9565 - val_loss: 0.9382 - val_accuracy: 0.8120\n",
            "Epoch 19/20\n",
            "16/16 [==============================] - 1s 44ms/step - loss: 0.1418 - accuracy: 0.9563 - val_loss: 0.9560 - val_accuracy: 0.8170\n",
            "Epoch 20/20\n",
            "16/16 [==============================] - 1s 44ms/step - loss: 0.1325 - accuracy: 0.9567 - val_loss: 0.9721 - val_accuracy: 0.8180\n"
          ]
        }
      ]
    },
    {
      "cell_type": "code",
      "source": [
        "import matplotlib.pyplot as plt"
      ],
      "metadata": {
        "id": "74q8nwJGEnja"
      },
      "execution_count": null,
      "outputs": []
    },
    {
      "cell_type": "code",
      "source": [
        "loss = history.history['loss']\n",
        "val_loss = history.history['val_loss']\n",
        "acc = history.history['accuracy']\n",
        "val_acc = history.history['val_accuracy']"
      ],
      "metadata": {
        "id": "ReyfhWLyFxfS"
      },
      "execution_count": null,
      "outputs": []
    },
    {
      "cell_type": "code",
      "source": [
        "epochs = range(1, len(loss)+1)\n",
        "\n",
        "plt.plot(epochs, loss, 'bo', label='Training loss')\n",
        "plt.plot(epochs, val_loss, 'r-', label='Validation loss')\n",
        "plt.title('Training and validation loss')\n",
        "plt.xlabel('Epochs')\n",
        "plt.ylabel('Loss')\n",
        "plt.legend()"
      ],
      "metadata": {
        "colab": {
          "base_uri": "https://localhost:8080/",
          "height": 490
        },
        "id": "8-Pmf4XaGG3u",
        "outputId": "cb286b8c-5d9c-4c39-c36d-4835eb9a2e6c"
      },
      "execution_count": null,
      "outputs": [
        {
          "output_type": "execute_result",
          "data": {
            "text/plain": [
              "<matplotlib.legend.Legend at 0x7f8223e64be0>"
            ]
          },
          "metadata": {},
          "execution_count": 13
        },
        {
          "output_type": "display_data",
          "data": {
            "text/plain": [
              "<Figure size 640x480 with 1 Axes>"
            ],
            "image/png": "[encoded data removed]"
          },
          "metadata": {}
        }
      ]
    },
    {
      "cell_type": "code",
      "source": [
        "plt.plot(epochs, acc, 'bo', label='Training accuracy')\n",
        "plt.plot(epochs, val_acc, 'r-', label='Validation accuracy')\n",
        "plt.title('Training and validation accuracy')\n",
        "plt.xlabel('Epochs')\n",
        "plt.ylabel('Accuracy')\n",
        "plt.legend()"
      ],
      "metadata": {
        "colab": {
          "base_uri": "https://localhost:8080/",
          "height": 490
        },
        "id": "GgrHTcUMHAhg",
        "outputId": "de1e3cca-4b72-4c33-ef6b-fb94039b05d0"
      },
      "execution_count": null,
      "outputs": [
        {
          "output_type": "execute_result",
          "data": {
            "text/plain": [
              "<matplotlib.legend.Legend at 0x7f826aa47190>"
            ]
          },
          "metadata": {},
          "execution_count": 14
        },
        {
          "output_type": "display_data",
          "data": {
            "text/plain": [
              "<Figure size 640x480 with 1 Axes>"
            ],
            "image/png": "[encoded data removed]"
          },
          "metadata": {}
        }
      ]
    },
    {
      "cell_type": "code",
      "source": [
        "# 검증 된 결과로 다시 학습 \n",
        "\n",
        "model = models.Sequential()\n",
        "model.add(layers.Dense(64, activation='relu', input_shape=(10000,)))\n",
        "model.add(layers.Dense(64, activation='relu'))\n",
        "model.add(layers.Dense(46, activation='softmax'))\n",
        "\n",
        "model.compile(optimizer='rmsprop',\n",
        "             loss='categorical_crossentropy',\n",
        "             metrics=['accuracy'])\n",
        "\n",
        "history = model.fit(partial_x_train, \n",
        "                    partial_y_train,\n",
        "                    epochs=10,\n",
        "                    batch_size=512,\n",
        "                    validation_data=(x_val, y_val))\n",
        "\n",
        "eval_result = model.evaluate(x_test, one_hot_test_labels)\n",
        "print(eval_result)"
      ],
      "metadata": {
        "colab": {
          "base_uri": "https://localhost:8080/"
        },
        "id": "hLmNJ7JhIFTo",
        "outputId": "2e8ec36f-3986-48fd-838e-6ff45dd33b26"
      },
      "execution_count": null,
      "outputs": [
        {
          "output_type": "stream",
          "name": "stdout",
          "text": [
            "Epoch 1/10\n",
            "16/16 [==============================] - 2s 61ms/step - loss: 2.8128 - accuracy: 0.4023 - val_loss: 1.8531 - val_accuracy: 0.6380\n",
            "Epoch 2/10\n",
            "16/16 [==============================] - 1s 48ms/step - loss: 1.5607 - accuracy: 0.6928 - val_loss: 1.3945 - val_accuracy: 0.6880\n",
            "Epoch 3/10\n",
            "16/16 [==============================] - 1s 48ms/step - loss: 1.1860 - accuracy: 0.7492 - val_loss: 1.1779 - val_accuracy: 0.7390\n",
            "Epoch 4/10\n",
            "16/16 [==============================] - 1s 46ms/step - loss: 0.9683 - accuracy: 0.7914 - val_loss: 1.0715 - val_accuracy: 0.7720\n",
            "Epoch 5/10\n",
            "16/16 [==============================] - 1s 45ms/step - loss: 0.7987 - accuracy: 0.8305 - val_loss: 1.0086 - val_accuracy: 0.7840\n",
            "Epoch 6/10\n",
            "16/16 [==============================] - 1s 61ms/step - loss: 0.6703 - accuracy: 0.8576 - val_loss: 0.9419 - val_accuracy: 0.8020\n",
            "Epoch 7/10\n",
            "16/16 [==============================] - 1s 82ms/step - loss: 0.5618 - accuracy: 0.8790 - val_loss: 0.9107 - val_accuracy: 0.8170\n",
            "Epoch 8/10\n",
            "16/16 [==============================] - 1s 77ms/step - loss: 0.4730 - accuracy: 0.9004 - val_loss: 0.9030 - val_accuracy: 0.8050\n",
            "Epoch 9/10\n",
            "16/16 [==============================] - 1s 44ms/step - loss: 0.4011 - accuracy: 0.9159 - val_loss: 0.8767 - val_accuracy: 0.8250\n",
            "Epoch 10/10\n",
            "16/16 [==============================] - 1s 48ms/step - loss: 0.3415 - accuracy: 0.9278 - val_loss: 0.8677 - val_accuracy: 0.8230\n",
            "71/71 [==============================] - 0s 3ms/step - loss: 0.9412 - accuracy: 0.7912\n",
            "[0.9411991834640503, 0.7911843061447144]\n"
          ]
        }
      ]
    },
    {
      "cell_type": "code",
      "source": [],
      "metadata": {
        "id": "cuGpD7VzKSS1"
      },
      "execution_count": null,
      "outputs": []
    }
  ]
}
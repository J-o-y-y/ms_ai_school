{
  "nbformat": 4,
  "nbformat_minor": 0,
  "metadata": {
    "colab": {
      "provenance": [],
      "include_colab_link": true
    },
    "kernelspec": {
      "name": "python3",
      "display_name": "Python 3"
    },
    "language_info": {
      "name": "python"
    }
  },
  "cells": [
    {
      "cell_type": "markdown",
      "metadata": {
        "id": "view-in-github",
        "colab_type": "text"
      },
      "source": [
        "<a href=\"https://colab.research.google.com/github/J-o-y-y/ms_ai_school/blob/main/PythonAzure01.ipynb\" target=\"_parent\"><img src=\"https://colab.research.google.com/assets/colab-badge.svg\" alt=\"Open In Colab\"/></a>"
      ]
    },
    {
      "cell_type": "code",
      "execution_count": null,
      "metadata": {
        "colab": {
          "base_uri": "https://localhost:8080/"
        },
        "id": "zy5hmlPJlR3u",
        "outputId": "1e51c4f3-e06d-4409-fa05-523bdc0c84dc"
      },
      "outputs": [
        {
          "output_type": "stream",
          "name": "stdout",
          "text": [
            "Looking in indexes: https://pypi.org/simple, https://us-python.pkg.dev/colab-wheels/public/simple/\n",
            "Collecting azure-storage-blob\n",
            "  Downloading azure_storage_blob-12.16.0-py3-none-any.whl (387 kB)\n",
            "\u001b[2K     \u001b[90m━━━━━━━━━━━━━━━━━━━━━━━━━━━━━━━━━━━━━━━\u001b[0m \u001b[32m388.0/388.0 kB\u001b[0m \u001b[31m6.8 MB/s\u001b[0m eta \u001b[36m0:00:00\u001b[0m\n",
            "\u001b[?25hCollecting azure-identity\n",
            "  Downloading azure_identity-1.12.0-py3-none-any.whl (135 kB)\n",
            "\u001b[2K     \u001b[90m━━━━━━━━━━━━━━━━━━━━━━━━━━━━━━━━━━━━━━━\u001b[0m \u001b[32m135.5/135.5 kB\u001b[0m \u001b[31m8.4 MB/s\u001b[0m eta \u001b[36m0:00:00\u001b[0m\n",
            "\u001b[?25hCollecting isodate>=0.6.1\n",
            "  Downloading isodate-0.6.1-py2.py3-none-any.whl (41 kB)\n",
            "\u001b[2K     \u001b[90m━━━━━━━━━━━━━━━━━━━━━━━━━━━━━━━━━━━━━━━━\u001b[0m \u001b[32m41.7/41.7 kB\u001b[0m \u001b[31m3.3 MB/s\u001b[0m eta \u001b[36m0:00:00\u001b[0m\n",
            "\u001b[?25hRequirement already satisfied: cryptography>=2.1.4 in /usr/local/lib/python3.9/dist-packages (from azure-storage-blob) (40.0.2)\n",
            "Requirement already satisfied: typing-extensions>=4.0.1 in /usr/local/lib/python3.9/dist-packages (from azure-storage-blob) (4.5.0)\n",
            "Collecting azure-core<2.0.0,>=1.26.0\n",
            "  Downloading azure_core-1.26.4-py3-none-any.whl (173 kB)\n",
            "\u001b[2K     \u001b[90m━━━━━━━━━━━━━━━━━━━━━━━━━━━━━━━━━━━━━━\u001b[0m \u001b[32m173.9/173.9 kB\u001b[0m \u001b[31m15.9 MB/s\u001b[0m eta \u001b[36m0:00:00\u001b[0m\n",
            "\u001b[?25hRequirement already satisfied: six>=1.12.0 in /usr/local/lib/python3.9/dist-packages (from azure-identity) (1.16.0)\n",
            "Collecting msal-extensions<2.0.0,>=0.3.0\n",
            "  Downloading msal_extensions-1.0.0-py2.py3-none-any.whl (19 kB)\n",
            "Collecting msal<2.0.0,>=1.12.0\n",
            "  Downloading msal-1.22.0-py2.py3-none-any.whl (90 kB)\n",
            "\u001b[2K     \u001b[90m━━━━━━━━━━━━━━━━━━━━━━━━━━━━━━━━━━━━━━━━\u001b[0m \u001b[32m90.0/90.0 kB\u001b[0m \u001b[31m5.6 MB/s\u001b[0m eta \u001b[36m0:00:00\u001b[0m\n",
            "\u001b[?25hRequirement already satisfied: requests>=2.18.4 in /usr/local/lib/python3.9/dist-packages (from azure-core<2.0.0,>=1.26.0->azure-storage-blob) (2.27.1)\n",
            "Requirement already satisfied: cffi>=1.12 in /usr/local/lib/python3.9/dist-packages (from cryptography>=2.1.4->azure-storage-blob) (1.15.1)\n",
            "Collecting PyJWT[crypto]<3,>=1.0.0\n",
            "  Downloading PyJWT-2.6.0-py3-none-any.whl (20 kB)\n",
            "Collecting portalocker<3,>=1.0\n",
            "  Downloading portalocker-2.7.0-py2.py3-none-any.whl (15 kB)\n",
            "Requirement already satisfied: pycparser in /usr/local/lib/python3.9/dist-packages (from cffi>=1.12->cryptography>=2.1.4->azure-storage-blob) (2.21)\n",
            "Requirement already satisfied: charset-normalizer~=2.0.0 in /usr/local/lib/python3.9/dist-packages (from requests>=2.18.4->azure-core<2.0.0,>=1.26.0->azure-storage-blob) (2.0.12)\n",
            "Requirement already satisfied: certifi>=2017.4.17 in /usr/local/lib/python3.9/dist-packages (from requests>=2.18.4->azure-core<2.0.0,>=1.26.0->azure-storage-blob) (2022.12.7)\n",
            "Requirement already satisfied: urllib3<1.27,>=1.21.1 in /usr/local/lib/python3.9/dist-packages (from requests>=2.18.4->azure-core<2.0.0,>=1.26.0->azure-storage-blob) (1.26.15)\n",
            "Requirement already satisfied: idna<4,>=2.5 in /usr/local/lib/python3.9/dist-packages (from requests>=2.18.4->azure-core<2.0.0,>=1.26.0->azure-storage-blob) (3.4)\n",
            "Installing collected packages: PyJWT, portalocker, isodate, azure-core, azure-storage-blob, msal, msal-extensions, azure-identity\n",
            "Successfully installed PyJWT-2.6.0 azure-core-1.26.4 azure-identity-1.12.0 azure-storage-blob-12.16.0 isodate-0.6.1 msal-1.22.0 msal-extensions-1.0.0 portalocker-2.7.0\n"
          ]
        }
      ],
      "source": [
        "!pip install azure-storage-blob azure-identity"
      ]
    },
    {
      "cell_type": "code",
      "source": [
        "import os, uuid\n",
        "from azure.identity import DefaultAzureCredential\n",
        "from azure.storage.blob import BlobServiceClient, BlobClient, ContainerClient"
      ],
      "metadata": {
        "id": "kbsE_E6Ll0je"
      },
      "execution_count": null,
      "outputs": []
    },
    {
      "cell_type": "code",
      "source": [
        "# Blob Services에 접속 \n",
        "connect_str = 'DefaultEndpointsProtocol=https;AccountName=labuser1storage2;AccountKey=oR2DcNyvRRHxb56hroyHB2E2rqXMdjq9NJQMLyYNq9J7zenbBHuzWdQSXVcB5Z5p1QVUOsheDnWC+AStyROs1Q==;EndpointSuffix=core.windows.net'\n",
        "blob_service_client = BlobServiceClient.from_connection_string(connect_str)"
      ],
      "metadata": {
        "id": "IG8XTO3_m3kJ"
      },
      "execution_count": null,
      "outputs": []
    },
    {
      "cell_type": "code",
      "source": [
        "container_name = 'test2container'\n",
        "\n",
        "container_client = blob_service_client.create_container(container_name)"
      ],
      "metadata": {
        "id": "2DL2XKcBoX2_"
      },
      "execution_count": null,
      "outputs": []
    },
    {
      "cell_type": "code",
      "source": [
        "# Create a local directory to hold blob data\n",
        "local_path = './data'\n",
        "os.mkdir(local_path)\n",
        "\n",
        "# Create a file in the local data directory to upload and download\n",
        "local_file_name = 'welcome' + '.txt'\n",
        "upload_file_path = os.path.join(local_path, local_file_name)\n",
        "\n",
        "# Write text to the file\n",
        "file = open(upload_file_path, mode='w')\n",
        "file.write('Welcome to Python')\n",
        "file.close()\n"
      ],
      "metadata": {
        "id": "pYGPHtuApFME",
        "colab": {
          "base_uri": "https://localhost:8080/",
          "height": 242
        },
        "outputId": "977cc578-8b1f-47cc-8e07-e39d776838eb"
      },
      "execution_count": null,
      "outputs": [
        {
          "output_type": "error",
          "ename": "FileExistsError",
          "evalue": "ignored",
          "traceback": [
            "\u001b[0;31m---------------------------------------------------------------------------\u001b[0m",
            "\u001b[0;31mFileExistsError\u001b[0m                           Traceback (most recent call last)",
            "\u001b[0;32m<ipython-input-10-fd5dabb7e42f>\u001b[0m in \u001b[0;36m<cell line: 3>\u001b[0;34m()\u001b[0m\n\u001b[1;32m      1\u001b[0m \u001b[0;31m# Create a local directory to hold blob data\u001b[0m\u001b[0;34m\u001b[0m\u001b[0;34m\u001b[0m\u001b[0m\n\u001b[1;32m      2\u001b[0m \u001b[0mlocal_path\u001b[0m \u001b[0;34m=\u001b[0m \u001b[0;34m'./data'\u001b[0m\u001b[0;34m\u001b[0m\u001b[0;34m\u001b[0m\u001b[0m\n\u001b[0;32m----> 3\u001b[0;31m \u001b[0mos\u001b[0m\u001b[0;34m.\u001b[0m\u001b[0mmkdir\u001b[0m\u001b[0;34m(\u001b[0m\u001b[0mlocal_path\u001b[0m\u001b[0;34m)\u001b[0m\u001b[0;34m\u001b[0m\u001b[0;34m\u001b[0m\u001b[0m\n\u001b[0m\u001b[1;32m      4\u001b[0m \u001b[0;34m\u001b[0m\u001b[0m\n\u001b[1;32m      5\u001b[0m \u001b[0;31m# Create a file in the local data directory to upload and download\u001b[0m\u001b[0;34m\u001b[0m\u001b[0;34m\u001b[0m\u001b[0m\n",
            "\u001b[0;31mFileExistsError\u001b[0m: [Errno 17] File exists: './data'"
          ]
        }
      ]
    },
    {
      "cell_type": "code",
      "source": [
        "blob_client = blob_service_client.get_blob_client(\n",
        "                  container=container_name, blob=local_file_name)\n",
        "\n",
        "with open(file=upload_file_path, mode='rb') as data:\n",
        "  blob_client.upload_blob(data)"
      ],
      "metadata": {
        "id": "E0pz2EmLsaoq"
      },
      "execution_count": null,
      "outputs": []
    },
    {
      "cell_type": "code",
      "source": [
        "# blob 파일의 리스트를 확인한다. \n",
        "print('\\nListing blobs')\n",
        "\n",
        "blob_list = container_client.list_blobs()\n",
        "for blob in blob_list:\n",
        "  print('\\t' + blob.name)"
      ],
      "metadata": {
        "id": "9Foy1s5Lt0jE",
        "colab": {
          "base_uri": "https://localhost:8080/"
        },
        "outputId": "97659645-f8e9-4e68-8f6c-673e6c6881a4"
      },
      "execution_count": null,
      "outputs": [
        {
          "output_type": "stream",
          "name": "stdout",
          "text": [
            "\n",
            "Listing blobs\n",
            "\twelcome.txt\n"
          ]
        }
      ]
    },
    {
      "cell_type": "code",
      "source": [
        "# Download the blob to a local file\n",
        "# Add 'DOWNLOAD' befere the .txt extendsion so you can see both files in the data directory \n",
        "\n",
        "download_file_path = os.path.join(local_path, \n",
        "                                  str.replace(local_file_name,'.txt','_DOWNLOAD.txt'))\n",
        "print(download_file_path)\n",
        "container_client = blob_service_client.get_container_client(container=container_name)\n",
        "\n",
        "with open(file=download_file_path, mode='wb') as download_file:\n",
        "  download_file.write(container_client.download_blob(blob.name).readall())\n"
      ],
      "metadata": {
        "colab": {
          "base_uri": "https://localhost:8080/"
        },
        "id": "qZ-XLvSIPbFT",
        "outputId": "04c351d2-6675-4b2a-d71f-e7dd0fb8f843"
      },
      "execution_count": null,
      "outputs": [
        {
          "output_type": "stream",
          "name": "stdout",
          "text": [
            "./data/welcome_DOWNLOAD.txt\n"
          ]
        }
      ]
    },
    {
      "cell_type": "code",
      "source": [
        "# Clean Up\n",
        "print('\\nPress the Enter Key to begin clean up')\n",
        "if input() == 'yes':\n",
        "\n",
        "  print('Deleting blob container...')\n",
        "  container_client.delete_container()\n",
        "\n",
        "  print('Deleteing the local source and downloaded files....')\n",
        "  os.remove(upload_file_path)\n",
        "  os.remove(download_file_path)\n",
        "  os.rmdir(local_path)\n",
        "\n",
        "  print('Done')"
      ],
      "metadata": {
        "colab": {
          "base_uri": "https://localhost:8080/"
        },
        "id": "X6Iea2t-SGqI",
        "outputId": "3a1c18b8-c6d3-4705-f6f0-0791eda24b70"
      },
      "execution_count": null,
      "outputs": [
        {
          "output_type": "stream",
          "name": "stdout",
          "text": [
            "\n",
            "Press the Enter Key to begin clean up\n",
            "\n",
            "Deleting blob container...\n",
            "Deleteing the local source and downloaded files....\n",
            "Done\n"
          ]
        }
      ]
    },
    {
      "cell_type": "code",
      "source": [],
      "metadata": {
        "id": "YrDsWzA6V3rA"
      },
      "execution_count": null,
      "outputs": []
    }
  ]
}
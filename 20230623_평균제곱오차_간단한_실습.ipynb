{
  "nbformat": 4,
  "nbformat_minor": 0,
  "metadata": {
    "colab": {
      "provenance": [],
      "authorship_tag": "ABX9TyM+zfY9eUalO0NLnyemXdRQ",
      "include_colab_link": true
    },
    "kernelspec": {
      "name": "python3",
      "display_name": "Python 3"
    },
    "language_info": {
      "name": "python"
    }
  },
  "cells": [
    {
      "cell_type": "markdown",
      "metadata": {
        "id": "view-in-github",
        "colab_type": "text"
      },
      "source": [
        "<a href=\"https://colab.research.google.com/github/J-o-y-y/ms_ai_school/blob/main/20230623_%ED%8F%89%EA%B7%A0%EC%A0%9C%EA%B3%B1%EC%98%A4%EC%B0%A8_%EA%B0%84%EB%8B%A8%ED%95%9C_%EC%8B%A4%EC%8A%B5.ipynb\" target=\"_parent\"><img src=\"https://colab.research.google.com/assets/colab-badge.svg\" alt=\"Open In Colab\"/></a>"
      ]
    },
    {
      "cell_type": "code",
      "execution_count": 7,
      "metadata": {
        "id": "DQ1PGOj4_Fen"
      },
      "outputs": [],
      "source": [
        "# 평균제곱오차 간단한 실습\n",
        "import numpy as np"
      ]
    },
    {
      "cell_type": "code",
      "source": [
        "def mean_squred_error(y_true, y_pred) :\n",
        "    mean_temp = np.mean((y_true - y_pred)**2)\n",
        "\n",
        "    return mean_temp\n",
        "\n",
        "y_true = np.array([1,2,3,4])\n",
        "y_pred = np.array([6,7,8,9])\n",
        "\n",
        "mean_value = mean_squred_error(y_true, y_pred)\n",
        "print(mean_value)"
      ],
      "metadata": {
        "colab": {
          "base_uri": "https://localhost:8080/"
        },
        "id": "cwNtxgH4_LqP",
        "outputId": "274ffcce-bfe8-4496-941a-f1daea2d73c9"
      },
      "execution_count": 3,
      "outputs": [
        {
          "output_type": "stream",
          "name": "stdout",
          "text": [
            "25.0\n"
          ]
        }
      ]
    },
    {
      "cell_type": "code",
      "source": [
        "def mean_squred_error(y_true, y_pred) :\n",
        "    mean_temp = np.mean((y_true - y_pred)**2)\n",
        "\n",
        "    return mean_temp\n",
        "\n",
        "y_true = np.array([1,2,3,4])\n",
        "y_pred = np.array([1,0,3,4])\n",
        "\n",
        "mean_value = mean_squred_error(y_true, y_pred)\n",
        "print(mean_value)"
      ],
      "metadata": {
        "colab": {
          "base_uri": "https://localhost:8080/"
        },
        "id": "2UTkCqgyAIZW",
        "outputId": "bf81b801-e9a8-4a45-bcf9-e57ae1aeed90"
      },
      "execution_count": 4,
      "outputs": [
        {
          "output_type": "stream",
          "name": "stdout",
          "text": [
            "1.0\n"
          ]
        }
      ]
    },
    {
      "cell_type": "code",
      "source": [
        "# Binary Cross Entropy Loss 간단한 실습"
      ],
      "metadata": {
        "id": "72bblsxAB2B6"
      },
      "execution_count": null,
      "outputs": []
    },
    {
      "cell_type": "code",
      "source": [
        "def binary_cross_entropy_loss(y_true_temp, y_pred_temp):\n",
        "    epsilon = 1e-7\n",
        "    n = y_true_temp.shape[0]\n",
        "    print(\"n value >> \", n)\n",
        "    loss = -np.mean(y_true_temp * np.log(y_pred_temp + epsilon) + (1 - y_true_temp) * np.log(1 - y_pred_temp + epsilon))\n",
        "    return loss\n",
        "\n",
        "y_true_temp = np.array([1, 0, 1, 1])\n",
        "y_pred_temp = np.array([0.99, 0.1, 0.8, 0.7])\n",
        "\n",
        "loss = binary_cross_entropy_loss(y_true_temp, y_pred_temp)\n",
        "print(loss)\n"
      ],
      "metadata": {
        "colab": {
          "base_uri": "https://localhost:8080/"
        },
        "id": "I3i6aDcmENVw",
        "outputId": "573ab660-4244-4e3c-e59e-530bab77064b"
      },
      "execution_count": 14,
      "outputs": [
        {
          "output_type": "stream",
          "name": "stdout",
          "text": [
            "n value >>  4\n",
            "0.1738072166964861\n"
          ]
        }
      ]
    },
    {
      "cell_type": "code",
      "source": [
        "# Cross Entropy Loss 간단한 실습\n",
        "\n",
        "def cross_entropy_loss (y_true_01, y_pred_01, c):\n",
        "  n_temp = y_true_01.shape[0]\n",
        "  print(\"n_valeu\" , n_temp)\n",
        "  ce_loss = -1 / n_temp * np.sum(y_true_01 * np.log(y_pred_01))\n",
        "\n",
        "  return ce_loss\n",
        "\n",
        "y_true_01 = np.array([[1,0,0], [0,1,0], [0,0,1]])\n",
        "y_pred_01 = np.array(([0.7, 0.2, 0.1], [0.1, 0.8, 0.1], [0.2, 0.3, 0.5]))\n",
        "c=3\n",
        "\n",
        "ce_loss_value = cross_entropy_loss(y_true_01, y_pred_01, c)\n",
        "print(ce_loss_value)"
      ],
      "metadata": {
        "colab": {
          "base_uri": "https://localhost:8080/"
        },
        "id": "NuZYjrusDHW8",
        "outputId": "ed1f2527-aa6a-4b72-9ee4-80b2c982b0d2"
      },
      "execution_count": 19,
      "outputs": [
        {
          "output_type": "stream",
          "name": "stdout",
          "text": [
            "n_valeu 3\n",
            "0.42432189193762915\n"
          ]
        }
      ]
    }
  ]
}
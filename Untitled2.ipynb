{
  "nbformat": 4,
  "nbformat_minor": 0,
  "metadata": {
    "colab": {
      "provenance": [],
      "authorship_tag": "ABX9TyPpsBvbMqxcBGhFq28gtn78",
      "include_colab_link": true
    },
    "kernelspec": {
      "name": "python3",
      "display_name": "Python 3"
    },
    "language_info": {
      "name": "python"
    }
  },
  "cells": [
    {
      "cell_type": "markdown",
      "metadata": {
        "id": "view-in-github",
        "colab_type": "text"
      },
      "source": [
        "<a href=\"https://colab.research.google.com/github/J-o-y-y/ms_ai_school/blob/main/Untitled2.ipynb\" target=\"_parent\"><img src=\"https://colab.research.google.com/assets/colab-badge.svg\" alt=\"Open In Colab\"/></a>"
      ]
    },
    {
      "cell_type": "code",
      "execution_count": null,
      "metadata": {
        "id": "6mu7TOw7NPLH",
        "colab": {
          "base_uri": "https://localhost:8080/"
        },
        "outputId": "1fac6f45-77ae-4472-dfba-010b73fa4d90"
      },
      "outputs": [
        {
          "output_type": "stream",
          "name": "stdout",
          "text": [
            "Hello joy\n",
            "Hello anonymous\n"
          ]
        }
      ],
      "source": [
        "def say_hello(user_name=\"anonymous\"):\n",
        "  print(\"Hello\", user_name)\n",
        "\n",
        "say_hello(\"joy\")\n",
        "say_hello()"
      ]
    },
    {
      "cell_type": "code",
      "source": [
        "def plus(a,b):\n",
        "  print(a+b)\n",
        "  print(a-b)\n",
        "  print(a*b)\n",
        "  print(a**b)"
      ],
      "metadata": {
        "id": "weSoS4cIcu7U"
      },
      "execution_count": null,
      "outputs": []
    },
    {
      "cell_type": "code",
      "source": [
        "\n",
        "def tax_calc(money):\n",
        "  return money * 0.35\n",
        "\n",
        "def pay_tax(tax):\n",
        "  print(\"thank you for paying\", tax)\n",
        "\n",
        "to_pay = tax_calc(150000000)\n",
        "  "
      ],
      "metadata": {
        "id": "FNN7eX12m0qv"
      },
      "execution_count": null,
      "outputs": []
    },
    {
      "cell_type": "code",
      "source": [
        "def tax_calc(money):\n",
        "  return money * 0.35\n",
        "\n",
        "def pay_tax(tax):\n",
        "  print(\"thank you for paying\", tax)\n",
        "\n",
        "to_pay - tax_calc(150000000)\n",
        "pay_tax(to_pay)"
      ],
      "metadata": {
        "colab": {
          "base_uri": "https://localhost:8080/"
        },
        "id": "n-YnmNjOpcWA",
        "outputId": "f56a5dc4-c72c-45bb-a910-84bb29c83115"
      },
      "execution_count": null,
      "outputs": [
        {
          "output_type": "stream",
          "name": "stdout",
          "text": [
            "thank you for paying 52500000.0\n"
          ]
        }
      ]
    },
    {
      "cell_type": "code",
      "source": [
        "my_name = \"Joy\"\n",
        "my_age = 18\n",
        "my_eyes_color = \"Dark brown\"\n",
        "\n",
        "print(f\"Hello I'm{my_name}, and I'm{my_age} years old, {my_eyes_color} is my eye color\")"
      ],
      "metadata": {
        "id": "9j_GX8xLpl8-",
        "colab": {
          "base_uri": "https://localhost:8080/"
        },
        "outputId": "39cc70fc-3487-4200-8310-0f2eceacf4cb"
      },
      "execution_count": null,
      "outputs": [
        {
          "output_type": "stream",
          "name": "stdout",
          "text": [
            "Hello I'mJoy, and I'm18 years old, Dark brown is my eye color\n"
          ]
        }
      ]
    },
    {
      "cell_type": "code",
      "source": [
        "np.loadtxt(fname='winequality-red.csv', delimiter=';',' skiprows=1)"
      ],
      "metadata": {
        "id": "0iSh8mz0tAwS",
        "colab": {
          "base_uri": "https://localhost:8080/",
          "height": 137
        },
        "outputId": "364af0d7-b100-4e1e-96bb-fa8b4e293120"
      },
      "execution_count": null,
      "outputs": [
        {
          "output_type": "error",
          "ename": "SyntaxError",
          "evalue": "ignored",
          "traceback": [
            "\u001b[0;36m  File \u001b[0;32m\"<ipython-input-33-2a24df0a7b50>\"\u001b[0;36m, line \u001b[0;32m1\u001b[0m\n\u001b[0;31m    np.loadtxt(fname='winequality-red.csv', delimiter=';',' skiprows=1)\u001b[0m\n\u001b[0m                                                                       ^\u001b[0m\n\u001b[0;31mSyntaxError\u001b[0m\u001b[0;31m:\u001b[0m EOL while scanning string literal\n"
          ]
        }
      ]
    },
    {
      "cell_type": "code",
      "source": [
        "np.loadtxt(fname='winequality-red.csv', delimiter=';', skiprows=1)\n"
      ],
      "metadata": {
        "colab": {
          "base_uri": "https://localhost:8080/",
          "height": 174
        },
        "id": "K499oTVnxHxX",
        "outputId": "a530fd84-a246-4855-fdbe-937df10590b6"
      },
      "execution_count": null,
      "outputs": [
        {
          "output_type": "error",
          "ename": "NameError",
          "evalue": "ignored",
          "traceback": [
            "\u001b[0;31m---------------------------------------------------------------------------\u001b[0m",
            "\u001b[0;31mNameError\u001b[0m                                 Traceback (most recent call last)",
            "\u001b[0;32m<ipython-input-34-c511e14711fa>\u001b[0m in \u001b[0;36m<cell line: 1>\u001b[0;34m()\u001b[0m\n\u001b[0;32m----> 1\u001b[0;31m \u001b[0mnp\u001b[0m\u001b[0;34m.\u001b[0m\u001b[0mloadtxt\u001b[0m\u001b[0;34m(\u001b[0m\u001b[0mfname\u001b[0m\u001b[0;34m=\u001b[0m\u001b[0;34m'winequality-red.csv'\u001b[0m\u001b[0;34m,\u001b[0m \u001b[0mdelimiter\u001b[0m\u001b[0;34m=\u001b[0m\u001b[0;34m';'\u001b[0m\u001b[0;34m,\u001b[0m \u001b[0mskiprows\u001b[0m\u001b[0;34m=\u001b[0m\u001b[0;36m1\u001b[0m\u001b[0;34m)\u001b[0m\u001b[0;34m\u001b[0m\u001b[0;34m\u001b[0m\u001b[0m\n\u001b[0m",
            "\u001b[0;31mNameError\u001b[0m: name 'np' is not defined"
          ]
        }
      ]
    },
    {
      "cell_type": "code",
      "source": [],
      "metadata": {
        "id": "AZPY-jbYyuDi"
      },
      "execution_count": null,
      "outputs": []
    }
  ]
}
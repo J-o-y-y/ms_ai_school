{
  "nbformat": 4,
  "nbformat_minor": 0,
  "metadata": {
    "colab": {
      "provenance": [],
      "authorship_tag": "ABX9TyO63e5Xso+xNwTXCfO8EKCR",
      "include_colab_link": true
    },
    "kernelspec": {
      "name": "python3",
      "display_name": "Python 3"
    },
    "language_info": {
      "name": "python"
    }
  },
  "cells": [
    {
      "cell_type": "markdown",
      "metadata": {
        "id": "view-in-github",
        "colab_type": "text"
      },
      "source": [
        "<a href=\"https://colab.research.google.com/github/J-o-y-y/ms_ai_school/blob/main/20230628_Pytorc%EB%A5%BC_%EC%82%AC%EC%9A%A9%ED%95%98%EC%97%AC_%EC%86%8C%ED%94%84%ED%8A%B8%EB%A7%A5%EC%8A%A4_%ED%9A%8C%EA%B7%80_%EB%AA%A8%EB%8D%B8%EC%9D%84_%ED%95%99%EC%8A%B5%ED%95%98%EA%B3%A0_%EC%98%88%EC%B8%A1.ipynb\" target=\"_parent\"><img src=\"https://colab.research.google.com/assets/colab-badge.svg\" alt=\"Open In Colab\"/></a>"
      ]
    },
    {
      "cell_type": "code",
      "source": [
        "# Pytorc를 사용하여 소프트맥스 회귀 모델을 학습하고 예측하는 실습\n",
        "\n",
        "# Iris 데이터셋 사용하여 진행"
      ],
      "metadata": {
        "id": "nzUuVq3sgUIg"
      },
      "execution_count": null,
      "outputs": []
    },
    {
      "cell_type": "code",
      "source": [
        "import torch\n",
        "import torch.nn as nn\n",
        "import torch.optim as optim\n",
        "\n",
        "from torch.utils.data import DataLoader, TensorDataset\n",
        "from sklearn.datasets import load_iris\n",
        "from sklearn.model_selection import train_test_split"
      ],
      "metadata": {
        "id": "Com7MMN5gVEe"
      },
      "execution_count": 1,
      "outputs": []
    },
    {
      "cell_type": "code",
      "source": [
        "### 데이터 로드"
      ],
      "metadata": {
        "id": "nfUL7v54gYOq"
      },
      "execution_count": null,
      "outputs": []
    },
    {
      "cell_type": "code",
      "source": [
        "iris = load_iris()\n",
        "# print(iris)\n",
        "\n",
        "x = iris.data\n",
        "y = iris.target\n",
        "# print(x,y)\n",
        "\n",
        "x_train, x_test , y_train, y_test = train_test_split(x,y, test_size=0.1, random_state=777)\n",
        "\n",
        "# convert data to Pytorch tensor\n",
        "x_train = torch.from_numpy(x_train).float()\n",
        "y_train = torch.from_numpy(y_train).float()\n",
        "x_test = torch.from_numpy(x_test).float()\n",
        "y_test = torch.from_numpy(y_test).float()\n",
        "\n",
        "print(y_test)"
      ],
      "metadata": {
        "colab": {
          "base_uri": "https://localhost:8080/"
        },
        "id": "jlXA9nlFgaS-",
        "outputId": "20e4cd24-f916-48e1-9e5e-9f5de4624779"
      },
      "execution_count": 2,
      "outputs": [
        {
          "output_type": "stream",
          "name": "stdout",
          "text": [
            "tensor([2., 0., 2., 2., 1., 0., 2., 2., 0., 0., 2., 1., 1., 2., 2.])\n"
          ]
        }
      ]
    },
    {
      "cell_type": "code",
      "source": [
        "### 데이터셋 데이터 로더 정의"
      ],
      "metadata": {
        "id": "6hxMIdCKgu87"
      },
      "execution_count": null,
      "outputs": []
    },
    {
      "cell_type": "code",
      "execution_count": 4,
      "metadata": {
        "id": "_6tciJ3GgKDK"
      },
      "outputs": [],
      "source": [
        "train_dataset = TensorDataset(x_train, y_train)\n",
        "# TensorDataset() -> 동일한 크기를 가진 텐서들을 첫번째 차원을 기준으로 결합해서 -> 데이터셋 생성\n",
        "train_loader = DataLoader(train_dataset, batch_size=10, shuffle=True)"
      ]
    }
  ]
}
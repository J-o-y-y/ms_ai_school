{
  "nbformat": 4,
  "nbformat_minor": 0,
  "metadata": {
    "colab": {
      "provenance": [],
      "authorship_tag": "ABX9TyMzrQtPRuqf/jySvT6PcaTW",
      "include_colab_link": true
    },
    "kernelspec": {
      "name": "python3",
      "display_name": "Python 3"
    },
    "language_info": {
      "name": "python"
    }
  },
  "cells": [
    {
      "cell_type": "markdown",
      "metadata": {
        "id": "view-in-github",
        "colab_type": "text"
      },
      "source": [
        "<a href=\"https://colab.research.google.com/github/J-o-y-y/ms_ai_school/blob/main/20230624_%EB%8B%A8%EC%88%9C_%EC%84%A0%ED%98%95_%ED%9A%8C%EA%B7%80_%EA%B0%9C%EB%85%90.ipynb\" target=\"_parent\"><img src=\"https://colab.research.google.com/assets/colab-badge.svg\" alt=\"Open In Colab\"/></a>"
      ]
    },
    {
      "cell_type": "code",
      "execution_count": null,
      "metadata": {
        "id": "FSCg5cR_63zg"
      },
      "outputs": [],
      "source": [
        "# 단순 선형 회귀- 개념 간단 실습"
      ]
    },
    {
      "cell_type": "code",
      "source": [
        "import numpy as np"
      ],
      "metadata": {
        "id": "Omun_zjGFaEx"
      },
      "execution_count": 2,
      "outputs": []
    },
    {
      "cell_type": "code",
      "source": [
        "# 예시 데이터 생성\n",
        "\n",
        "x = np.array([1,2,3,4,5])\n",
        "y = np.array([2,3,4,5,6])\n",
        "print(x)\n",
        "print(y)"
      ],
      "metadata": {
        "colab": {
          "base_uri": "https://localhost:8080/"
        },
        "id": "tv2af5nvFqIk",
        "outputId": "5f04bbb6-071d-4be2-b520-d897572d65e2"
      },
      "execution_count": 3,
      "outputs": [
        {
          "output_type": "stream",
          "name": "stdout",
          "text": [
            "[1 2 3 4 5]\n",
            "[2 3 4 5 6]\n"
          ]
        }
      ]
    },
    {
      "cell_type": "code",
      "source": [
        "# 기울기와 절편 구하기\n",
        "\n",
        "beta_1 = np.sum((x - np.mean(x)) * (y - np.mean(y))) / np.sum((x - np.mean(x))**2)\n",
        "beat_0 = np.mean(y) - beta_1 * np.mean(x)"
      ],
      "metadata": {
        "id": "FnmqxtgYGUIX"
      },
      "execution_count": 4,
      "outputs": []
    },
    {
      "cell_type": "code",
      "source": [
        "# 결과 출력\n",
        "\n",
        "print(\"기울기 : \", beta_1)\n",
        "print(\"절편 : \" , beat_0)"
      ],
      "metadata": {
        "colab": {
          "base_uri": "https://localhost:8080/"
        },
        "id": "MAighYuNGYx2",
        "outputId": "22864d7d-6d0e-40ff-b5f3-7a327c0d8a27"
      },
      "execution_count": 5,
      "outputs": [
        {
          "output_type": "stream",
          "name": "stdout",
          "text": [
            "기울기 :  1.0\n",
            "절편 :  1.0\n"
          ]
        }
      ]
    },
    {
      "cell_type": "code",
      "source": [
        "\"\"\"\n",
        " y = 1.0x + 1.0\n",
        "\"\"\""
      ],
      "metadata": {
        "id": "vVdhG577GeJg",
        "outputId": "4e5495d3-aac1-461d-e18d-370ddbc59385",
        "colab": {
          "base_uri": "https://localhost:8080/",
          "height": 36
        }
      },
      "execution_count": 6,
      "outputs": [
        {
          "output_type": "execute_result",
          "data": {
            "text/plain": [
              "'\\n y = 1.0x + 1.0 \\n'"
            ],
            "application/vnd.google.colaboratory.intrinsic+json": {
              "type": "string"
            }
          },
          "metadata": {},
          "execution_count": 6
        }
      ]
    }
  ]
}
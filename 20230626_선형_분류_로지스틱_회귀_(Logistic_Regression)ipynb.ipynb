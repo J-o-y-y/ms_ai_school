{
  "nbformat": 4,
  "nbformat_minor": 0,
  "metadata": {
    "colab": {
      "provenance": [],
      "authorship_tag": "ABX9TyOcvy3H3ozNYeKMcGV9q7tM",
      "include_colab_link": true
    },
    "kernelspec": {
      "name": "python3",
      "display_name": "Python 3"
    },
    "language_info": {
      "name": "python"
    }
  },
  "cells": [
    {
      "cell_type": "markdown",
      "metadata": {
        "id": "view-in-github",
        "colab_type": "text"
      },
      "source": [
        "<a href=\"https://colab.research.google.com/github/J-o-y-y/ms_ai_school/blob/main/20230626_%EC%84%A0%ED%98%95_%EB%B6%84%EB%A5%98_%EB%A1%9C%EC%A7%80%EC%8A%A4%ED%8B%B1_%ED%9A%8C%EA%B7%80_(Logistic_Regression)ipynb.ipynb\" target=\"_parent\"><img src=\"https://colab.research.google.com/assets/colab-badge.svg\" alt=\"Open In Colab\"/></a>"
      ]
    },
    {
      "cell_type": "code",
      "execution_count": null,
      "metadata": {
        "id": "RmRRJQLfWIOx"
      },
      "outputs": [],
      "source": [
        "# 선형 분류 - 로지스틱 회귀 (Logistic Regression)"
      ]
    },
    {
      "cell_type": "code",
      "source": [
        "import torch\n",
        "import torch.nn as nn\n",
        "import torch.optim as optim\n",
        "\n",
        "from sklearn.datasets import make_classification\n",
        "from sklearn.model_selection import train_test_split\n",
        "\n",
        "from torch.utils.data import Dataset, DataLoader"
      ],
      "metadata": {
        "id": "aCU_MiSPWNWR"
      },
      "execution_count": 1,
      "outputs": []
    },
    {
      "cell_type": "code",
      "source": [
        "# 데이터셋을 만들기 make_classificaiton 함수를 사용하여 무작위로 데이터셋을 만들기"
      ],
      "metadata": {
        "id": "DUOgNcAaWPe6"
      },
      "execution_count": null,
      "outputs": []
    },
    {
      "cell_type": "code",
      "source": [
        "x, y = make_classification(\n",
        "    n_samples=3000, # 생성할 데이터 수\n",
        "    n_features=5,   # 독립변수 수 (입력변수에 사용되는 변수) / 종속변수 -> 라벨\n",
        "    n_informative=2,# 독립변수 수 중에서 실제로 유의미한 의미가 있는 변수 계수\n",
        "    n_redundant=0,  # 독립변수 중에 다른 독립 변수로부터 파생된 불필요한 독립변수 계수\n",
        "    n_clusters_per_class=1, # 클래스당 클러스트 계수\n",
        "    random_state=42         # 난수 생성 발생기의 시드값\n",
        ")\n",
        "\n",
        "print(x, y)"
      ],
      "metadata": {
        "colab": {
          "base_uri": "https://localhost:8080/"
        },
        "id": "HQfklqM7WRNg",
        "outputId": "71d5c107-efa9-4e4a-a873-caaf87ca37fa"
      },
      "execution_count": 2,
      "outputs": [
        {
          "output_type": "stream",
          "name": "stdout",
          "text": [
            "[[-0.02439857 -0.57540077  1.26796049 -1.42222965 -0.9629849 ]\n",
            " [-1.07638119  0.3872175   1.08299994 -0.67379011 -2.65098736]\n",
            " [-1.12984986 -0.26922916  1.12735009 -0.82383687 -1.70574586]\n",
            " ...\n",
            " [-0.53797853  0.26401859 -0.48915618  0.4664446  -1.57451325]\n",
            " [ 0.01920342  0.9761859  -0.14717165 -1.51725386  2.31873002]\n",
            " [-0.37051336  0.93603022 -0.62133172 -0.23084897  1.66473405]] [0 0 0 ... 0 1 1]\n"
          ]
        }
      ]
    },
    {
      "cell_type": "code",
      "source": [
        "# 이제 데이터셋을 Train set 과 Test set 으로 나누기"
      ],
      "metadata": {
        "id": "HdqaMqbtWX4i"
      },
      "execution_count": null,
      "outputs": []
    },
    {
      "cell_type": "code",
      "source": [
        "x_train, x_test, y_train, y_test = train_test_split(x, y, test_size=0.2, random_state=42)\n",
        "\n",
        "print(\"x_train >> \" , len(x_train))\n",
        "print(\"x_test >> \", len(x_test))\n",
        "print(\"y_train >> \", len(y_train))\n",
        "print(\"y_test >> \", len(y_test))"
      ],
      "metadata": {
        "colab": {
          "base_uri": "https://localhost:8080/"
        },
        "id": "SxHZqNAjWejf",
        "outputId": "67074627-ae88-45af-fb09-f42915f8a6ef"
      },
      "execution_count": 3,
      "outputs": [
        {
          "output_type": "stream",
          "name": "stdout",
          "text": [
            "x_train >>  2400\n",
            "x_test >>  600\n",
            "y_train >>  2400\n",
            "y_test >>  600\n"
          ]
        }
      ]
    },
    {
      "cell_type": "code",
      "source": [
        "# Pytorc의 Dataset 과 Dataloader 를 사용하기 위한 Custom Dataset 구현"
      ],
      "metadata": {
        "id": "_1w3onxcWfsL"
      },
      "execution_count": null,
      "outputs": []
    },
    {
      "cell_type": "code",
      "source": [
        "class MyCustomDataset(Dataset) :\n",
        "    def __init__(self, x, y) :\n",
        "        # 텐서형태로 변환\n",
        "        self.x = torch.tensor(x, dtype=torch.float32)\n",
        "        self.y = torch.tensor(y, dtype=torch.float32)\n",
        "\n",
        "\n",
        "    def __getitem__(self, index) :\n",
        "\n",
        "        return self.x[index], self.y[index]\n",
        "\n",
        "\n",
        "    def __len__(self) :\n",
        "        return len(self.x)\n",
        "\n",
        "# 데이터셋 정의\n",
        "train_dataset = MyCustomDataset(x_train, y_train)\n",
        "test_dataset = MyCustomDataset(x_test, y_test)\n",
        "\n",
        "# 데이터 로드 정의\n",
        "train_loader = DataLoader(train_dataset, batch_size = 32, shuffle=True)\n",
        "test_loader = DataLoader(test_dataset, batch_size = 1, shuffle=False)\n",
        "\n",
        "# ########## 디버깅 코드 ##############\n",
        "# test = MyCustomDataset(x_test, y_test)\n",
        "# for i in test :\n",
        "#     print(i)\n",
        "########## 디버깅 코드 ##############\n",
        "# for index, (datas, lables) in enumerate(test_loader) :\n",
        "#     print(index, datas, lables)"
      ],
      "metadata": {
        "id": "5kt7IIToWh1t"
      },
      "execution_count": 4,
      "outputs": []
    },
    {
      "cell_type": "code",
      "source": [
        "# 모델 정의"
      ],
      "metadata": {
        "id": "BYu5tX6-WjQ5"
      },
      "execution_count": null,
      "outputs": []
    },
    {
      "cell_type": "code",
      "source": [
        "class LogisticRegression(nn.Module) :\n",
        "    def __init__(self, input_dim) :\n",
        "        super(LogisticRegression, self).__init__()\n",
        "        self.linear = nn.Linear(input_dim, 1)\n",
        "\n",
        "    def forward(self, x) :\n",
        "        out = self.linear(x)\n",
        "        out = torch.sigmoid(out)\n",
        "\n",
        "        return out\n",
        "\n",
        "model = LogisticRegression(input_dim=5)\n",
        "print(model)"
      ],
      "metadata": {
        "colab": {
          "base_uri": "https://localhost:8080/"
        },
        "id": "jqDOKSRAWlms",
        "outputId": "01f6bab2-1931-41dc-c75a-97e8c17f7401"
      },
      "execution_count": 5,
      "outputs": [
        {
          "output_type": "stream",
          "name": "stdout",
          "text": [
            "LogisticRegression(\n",
            "  (linear): Linear(in_features=5, out_features=1, bias=True)\n",
            ")\n"
          ]
        }
      ]
    },
    {
      "cell_type": "code",
      "source": [
        "# 모델을 학습시키기 전에 학습에 필요한 Loss function, optimizer 선언"
      ],
      "metadata": {
        "id": "tNLegQ3yWmoN"
      },
      "execution_count": null,
      "outputs": []
    },
    {
      "cell_type": "code",
      "source": [
        "!pip install adamp"
      ],
      "metadata": {
        "colab": {
          "base_uri": "https://localhost:8080/"
        },
        "id": "_gcQ1x0iXC42",
        "outputId": "3c6c6bd2-9eee-4017-bd97-69d27b3ceb4b"
      },
      "execution_count": 8,
      "outputs": [
        {
          "output_type": "stream",
          "name": "stdout",
          "text": [
            "Looking in indexes: https://pypi.org/simple, https://us-python.pkg.dev/colab-wheels/public/simple/\n",
            "Collecting adamp\n",
            "  Downloading adamp-0.3.0.tar.gz (5.1 kB)\n",
            "  Preparing metadata (setup.py) ... \u001b[?25l\u001b[?25hdone\n",
            "Building wheels for collected packages: adamp\n",
            "  Building wheel for adamp (setup.py) ... \u001b[?25l\u001b[?25hdone\n",
            "  Created wheel for adamp: filename=adamp-0.3.0-py3-none-any.whl size=5980 sha256=bc5599ecad15b6fea93eb7e202e20358c00c7f2dfc1fc720b222c7a69d3f0135\n",
            "  Stored in directory: /root/.cache/pip/wheels/c7/ad/0f/b41b1c45b18c66e5eef5d2254415af8055c7e2b0934145157d\n",
            "Successfully built adamp\n",
            "Installing collected packages: adamp\n",
            "Successfully installed adamp-0.3.0\n"
          ]
        }
      ]
    },
    {
      "cell_type": "code",
      "source": [
        "from adamp import SGDP\n",
        "\n",
        "\"\"\"\n",
        "# define your params\n",
        "optimizer = SGDP(params, lr=0.1, weight_decay=1e-5, momentum=0.9, nesterov=True)\n",
        "\"\"\"\n",
        "\n",
        "criterion = nn.BCELoss() # 사용한 이유는 0과 1 분류 이진분류 하기 떄문입니다.\n",
        "# optimizer = SGDP(model.parameters(), lr=0.25, weight_decay=1e-5, momentum=0.9, nesterov=True)\n",
        "optimizer = optim.SGD(model.parameters(), lr=0.01, weight_decay=1e-5, momentum=0.9, nesterov=True)\n",
        "\n",
        "print(optimizer)"
      ],
      "metadata": {
        "colab": {
          "base_uri": "https://localhost:8080/"
        },
        "id": "oXaQQGPcWsxI",
        "outputId": "633ed2d2-416e-4b3e-9d39-d5cc9e17897f"
      },
      "execution_count": 9,
      "outputs": [
        {
          "output_type": "stream",
          "name": "stdout",
          "text": [
            "SGD (\n",
            "Parameter Group 0\n",
            "    dampening: 0\n",
            "    differentiable: False\n",
            "    foreach: None\n",
            "    lr: 0.01\n",
            "    maximize: False\n",
            "    momentum: 0.9\n",
            "    nesterov: True\n",
            "    weight_decay: 1e-05\n",
            ")\n"
          ]
        }
      ]
    },
    {
      "cell_type": "code",
      "source": [
        "# tarin loop 구현"
      ],
      "metadata": {
        "id": "yOvw8XhtWuAQ"
      },
      "execution_count": null,
      "outputs": []
    },
    {
      "cell_type": "code",
      "source": [
        "num_epochs = 100\n",
        "\n",
        "for epoch in range(num_epochs) :\n",
        "    for inputs, targets in train_loader :\n",
        "#         print(targets)\n",
        "#         print(\"unsqueeze >> \", targets.unsqueeze(1))\n",
        "        # optimizer 초기화 진행\n",
        "        optimizer.zero_grad()\n",
        "\n",
        "        outputs = model(inputs)\n",
        "        loss = criterion(outputs, targets.unsqueeze(1))\n",
        "        loss.backward()\n",
        "\n",
        "        optimizer.step()\n",
        "\n",
        "    if epoch % 10 == 0 :\n",
        "        print(f\"Epoch : [{epoch+1}/{num_epochs}], Loss : [{loss.item():.4f}]\")\n",
        "\n",
        "    \"\"\"\n",
        "    SGDP\n",
        "    Epoch : [1/100], Loss : [0.2932]\n",
        "    Epoch : [11/100], Loss : [0.2758]\n",
        "    Epoch : [21/100], Loss : [0.1802]\n",
        "    Epoch : [31/100], Loss : [0.4343]\n",
        "    Epoch : [41/100], Loss : [0.1413]\n",
        "    Epoch : [51/100], Loss : [0.2233]\n",
        "    Epoch : [61/100], Loss : [0.2452]\n",
        "    Epoch : [71/100], Loss : [0.1318]\n",
        "    Epoch : [81/100], Loss : [0.2263]\n",
        "    Epoch : [91/100], Loss : [0.2263]\n",
        "\n",
        "    SGD\n",
        "    Epoch : [1/100], Loss : [0.3412]\n",
        "    Epoch : [11/100], Loss : [0.2807]\n",
        "    Epoch : [21/100], Loss : [0.3580]\n",
        "    Epoch : [31/100], Loss : [0.3004]\n",
        "    Epoch : [41/100], Loss : [0.2017]\n",
        "    Epoch : [51/100], Loss : [0.2862]\n",
        "    Epoch : [61/100], Loss : [0.2308]\n",
        "    Epoch : [71/100], Loss : [0.2103]\n",
        "    Epoch : [81/100], Loss : [0.2252]\n",
        "    Epoch : [91/100], Loss : [0.2543]\n",
        "    \"\"\"\n",
        ""
      ],
      "metadata": {
        "colab": {
          "base_uri": "https://localhost:8080/"
        },
        "id": "4lO3OZv0XIoe",
        "outputId": "c69b799f-6f5d-48b2-af83-9516cbbdc37b"
      },
      "execution_count": 10,
      "outputs": [
        {
          "output_type": "stream",
          "name": "stdout",
          "text": [
            "Epoch : [1/100], Loss : [0.2500]\n",
            "Epoch : [11/100], Loss : [0.2131]\n",
            "Epoch : [21/100], Loss : [0.1315]\n",
            "Epoch : [31/100], Loss : [0.2635]\n",
            "Epoch : [41/100], Loss : [0.3350]\n",
            "Epoch : [51/100], Loss : [0.3222]\n",
            "Epoch : [61/100], Loss : [0.3622]\n",
            "Epoch : [71/100], Loss : [0.2937]\n",
            "Epoch : [81/100], Loss : [0.2925]\n",
            "Epoch : [91/100], Loss : [0.2068]\n"
          ]
        }
      ]
    },
    {
      "cell_type": "code",
      "source": [
        "# 평가 코드 작성"
      ],
      "metadata": {
        "id": "TrpYpwAKXJ_S"
      },
      "execution_count": null,
      "outputs": []
    },
    {
      "cell_type": "code",
      "source": [
        "# device on GPU 인지 혹은 CPU\n",
        "device = torch.device('cuda' if torch.cuda.is_available() else 'cpu')\n",
        "print(\"Using device >> \", device)\n",
        "\n",
        "model.eval()\n",
        "with torch.no_grad() :\n",
        "    correct = 0\n",
        "    total = 0\n",
        "    for test_inputs, test_targets in test_loader :\n",
        "#         print(test_inputs, test_targets)\n",
        "        test_input, test_target = test_inputs.to(device), test_targets.to(device)\n",
        "        outputs_test = model(test_input)\n",
        "        _, pred_test = torch.max(outputs_test, 1)\n",
        "        total += test_targets.size(0)\n",
        "        correct += (pred_test == test_targets).sum().item()\n",
        "\n",
        "    print(\"Acc >> %d%%\"%(100 * correct / total))\n",
        "\n",
        ""
      ],
      "metadata": {
        "colab": {
          "base_uri": "https://localhost:8080/"
        },
        "id": "tE5BJA8zXL7L",
        "outputId": "9cc072ef-f494-44dc-9884-ce76be0d3ef3"
      },
      "execution_count": 11,
      "outputs": [
        {
          "output_type": "stream",
          "name": "stdout",
          "text": [
            "Using device >>  cpu\n",
            "Acc >> 48%\n"
          ]
        }
      ]
    }
  ]
}
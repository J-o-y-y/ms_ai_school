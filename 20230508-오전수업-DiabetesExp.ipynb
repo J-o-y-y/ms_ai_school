{
  "cells": [
    {
      "cell_type": "code",
      "source": [
        "from azureml.core import Workspace\r\n",
        "ws = Workspace.from_config()\r\n",
        "print('Workspace name:' + ws.name,\r\n",
        "        'Azure region:' + ws.location,\r\n",
        "        'Subscription ID:' + ws.subscription_id,\r\n",
        "        'Resurce group:' + ws.resource_group\r\n",
        ")"
      ],
      "outputs": [
        {
          "output_type": "stream",
          "name": "stdout",
          "text": "Workspace name:labuser1ml Azure region:westus3 Subscription ID:27db5ec6-d206-4028-b5e1-6004dca5eeef Resurce group:rg1\n"
        }
      ],
      "execution_count": 31,
      "metadata": {
        "gather": {
          "logged": 1683506050362
        }
      }
    },
    {
      "cell_type": "code",
      "source": [
        "# 실험공간을 준비\r\n",
        "from azureml.core import Experiment\r\n",
        "experiment = Experiment(workspace=ws, name='diabetes-experiment')"
      ],
      "outputs": [],
      "execution_count": 32,
      "metadata": {
        "jupyter": {
          "source_hidden": false,
          "outputs_hidden": false
        },
        "nteract": {
          "transient": {
            "deleting": false
          }
        },
        "gather": {
          "logged": 1683506108460
        }
      }
    },
    {
      "cell_type": "code",
      "source": [
        "# 데이터를 준비한다. \r\n",
        "from azureml.opendatasets import Diabetes\r\n",
        "from sklearn.model_selection import train_test_split\r\n",
        "\r\n",
        "x_df = Diabetes.get_tabular_dataset().to_pandas_dataframe().dropna()\r\n",
        "y_df = x_df.pop('Y')\r\n",
        "\r\n",
        "X_train, X_test, y_train, y_test = train_test_split(x_df, y_df, test_size=0.2, random_state=66)\r\n",
        "\r\n",
        "print(X_train)"
      ],
      "outputs": [
        {
          "output_type": "stream",
          "name": "stdout",
          "text": "     AGE  SEX   BMI     BP   S1     S2    S3    S4      S5   S6\n440   36    1  30.0   95.0  201  125.2  42.0  4.79  5.1299   85\n389   47    2  26.5   70.0  181  104.8  63.0  3.00  4.1897   70\n5     23    1  22.6   89.0  139   64.8  61.0  2.00  4.1897   68\n289   28    2  31.5   83.0  228  149.4  38.0  6.00  5.3132   83\n101   53    2  22.2  113.0  197  115.2  67.0  3.00  4.3041  100\n..   ...  ...   ...    ...  ...    ...   ...   ...     ...  ...\n122   62    2  33.9  101.0  221  156.4  35.0  6.00  4.9972  103\n51    65    2  27.9  103.0  159   96.8  42.0  4.00  4.6151   86\n119   53    1  22.0   94.0  175   88.0  59.0  3.00  4.9416   98\n316   53    2  27.7   95.0  190  101.8  41.0  5.00  5.4638  101\n20    35    1  21.1   82.0  156   87.8  50.0  3.00  4.5109   95\n\n[353 rows x 10 columns]\n"
        }
      ],
      "execution_count": 33,
      "metadata": {
        "jupyter": {
          "source_hidden": false,
          "outputs_hidden": false
        },
        "nteract": {
          "transient": {
            "deleting": false
          }
        },
        "gather": {
          "logged": 1683506199571
        }
      }
    },
    {
      "cell_type": "code",
      "source": [
        "# 모델 훈련, 로그, 모델 파일 관리 \r\n",
        "from sklearn.linear_model import Ridge\r\n",
        "from sklearn.metrics import mean_squared_error\r\n",
        "from sklearn.externals import joblib\r\n",
        "import math\r\n",
        "\r\n",
        "\r\n",
        "alphas = [0.1, 0.2, 0.3, 0.4, 0.5, 0.6, 0.7, 0.8, 0.9, 1]\r\n",
        "\r\n",
        "for alpha in alphas:\r\n",
        "\r\n",
        "    # 실험의 기록\r\n",
        "    run = experiment.start_logging()\r\n",
        "    run.log('alpha_value', alpha)\r\n",
        "\r\n",
        "    model = Ridge(alpha=alpha)\r\n",
        "    model.fit(X_train, y_train)\r\n",
        "    y_pred = model.predict(X_test)\r\n",
        "    rmse = math.sqrt(mean_squared_error(y_test, y_pred))\r\n",
        "\r\n",
        "    run.log('rmse', rmse)\r\n",
        "\r\n",
        "    print('model_alpha={0}, rmse={1}'.format(alpha, rmse))\r\n",
        "\r\n",
        "    # 모델을 파일로 저장하는 부분\r\n",
        "    model_name = 'model_alpha_' + str(alpha) + '.pkl'\r\n",
        "    filename = 'outputs/' + model_name\r\n",
        "\r\n",
        "    joblib.dump(value=model, filename=filename)\r\n",
        "\r\n",
        "    # Azure ML Service 에 모델 파일을 업로드 하는 부분 \r\n",
        "    run.upload_file(name=model_name, path_or_stream=filename)\r\n",
        "\r\n",
        "    run.complete()\r\n",
        "\r\n",
        "    print(f'{alpha} experiment completed')"
      ],
      "outputs": [
        {
          "output_type": "stream",
          "name": "stdout",
          "text": "model_alpha=0.1, rmse=56.60520331339142\n0.1 experiment completed\nmodel_alpha=0.2, rmse=56.61060264545032\n0.2 experiment completed\nmodel_alpha=0.3, rmse=56.61624324548362\n0.3 experiment completed\nmodel_alpha=0.4, rmse=56.62210708871014\n0.4 experiment completed\nmodel_alpha=0.5, rmse=56.62817734275138\n0.5 experiment completed\nmodel_alpha=0.6, rmse=56.63443828302744\n0.6 experiment completed\nmodel_alpha=0.7, rmse=56.64087521475942\n0.7 experiment completed\nmodel_alpha=0.8, rmse=56.647474401010754\n0.8 experiment completed\nmodel_alpha=0.9, rmse=56.654222996253125\n0.9 experiment completed\nmodel_alpha=1, rmse=56.66110898499054\n1 experiment completed\n"
        }
      ],
      "execution_count": 34,
      "metadata": {
        "jupyter": {
          "source_hidden": false,
          "outputs_hidden": false
        },
        "nteract": {
          "transient": {
            "deleting": false
          }
        },
        "gather": {
          "logged": 1683506595380
        }
      }
    },
    {
      "cell_type": "code",
      "source": [
        "experiment"
      ],
      "outputs": [
        {
          "output_type": "execute_result",
          "execution_count": 35,
          "data": {
            "text/plain": "Experiment(Name: diabetes-experiment,\nWorkspace: labuser1ml)",
            "text/html": "<table style=\"width:100%\"><tr><th>Name</th><th>Workspace</th><th>Report Page</th><th>Docs Page</th></tr><tr><td>diabetes-experiment</td><td>labuser1ml</td><td><a href=\"https://ml.azure.com/experiments/id/7b9732c7-d1e0-4e9d-85e9-7734e93d67b7?wsid=/subscriptions/27db5ec6-d206-4028-b5e1-6004dca5eeef/resourcegroups/rg1/workspaces/labuser1ml&amp;tid=5fb256f0-fbf2-40d2-81d5-bac1b32c419d\" target=\"_blank\" rel=\"noopener\">Link to Azure Machine Learning studio</a></td><td><a href=\"https://docs.microsoft.com/en-us/python/api/azureml-core/azureml.core.experiment.Experiment?view=azure-ml-py\" target=\"_blank\" rel=\"noopener\">Link to Documentation</a></td></tr></table>"
          },
          "metadata": {}
        }
      ],
      "execution_count": 35,
      "metadata": {
        "jupyter": {
          "source_hidden": false,
          "outputs_hidden": false
        },
        "nteract": {
          "transient": {
            "deleting": false
          }
        },
        "gather": {
          "logged": 1683506642916
        }
      }
    },
    {
      "cell_type": "code",
      "source": [
        "# Best Model을 탐색 후 다운로드 \r\n",
        "minimum_rmse = None\r\n",
        "minimum_rmse_runid = None\r\n",
        "\r\n",
        "for exp in experiment.get_runs():\r\n",
        "    run_metrics = exp.get_metrics();\r\n",
        "    run_details = exp.get_details();\r\n",
        "\r\n",
        "    run_rmse = run_metrics['rmse']\r\n",
        "    run_id = run_details['runId']\r\n",
        "\r\n",
        "    # 가장 낮은 RMSE 값을 가진 실행 ID를 구하는 부분\r\n",
        "    if minimum_rmse is None:\r\n",
        "        minimum_rmse = run_rmse\r\n",
        "        minimum_rmse_runid = run_id\r\n",
        "    else:\r\n",
        "        if run_rmse <  minimum_rmse:\r\n",
        "            minimum_rmse = run_rmse\r\n",
        "            minimum_rmse_runid = run_id\r\n",
        "\r\n",
        "print('Best run_id:  ' + minimum_rmse_runid)\r\n",
        "print('Best run_id rmse:  ' + str(minimum_rmse))"
      ],
      "outputs": [
        {
          "output_type": "stream",
          "name": "stdout",
          "text": "Best run_id:  e264e442-bd91-4f98-bef1-c93b5ecf51c7\nBest run_id rmse:  56.60520331339142\n"
        }
      ],
      "execution_count": 29,
      "metadata": {
        "jupyter": {
          "source_hidden": false,
          "outputs_hidden": false
        },
        "nteract": {
          "transient": {
            "deleting": false
          }
        },
        "gather": {
          "logged": 1683189250205
        }
      }
    },
    {
      "cell_type": "code",
      "source": [
        "from azureml.core import Run \r\n",
        "best_run = Run(experiment=experiment, run_id=minimum_rmse_runid)\r\n",
        "print(best_run.get_file_names())\r\n",
        "\r\n",
        "best_run.download_file(name=str(best_run.get_file_names()[0]))"
      ],
      "outputs": [
        {
          "output_type": "stream",
          "name": "stdout",
          "text": "['model_alpha_0.1.pkl', 'outputs/.amlignore', 'outputs/.amlignore.amltmp', 'outputs/model_alpha_0.1.pkl', 'outputs/model_alpha_0.2.pkl', 'outputs/model_alpha_0.3.pkl', 'outputs/model_alpha_0.4.pkl', 'outputs/model_alpha_0.5.pkl', 'outputs/model_alpha_0.6.pkl', 'outputs/model_alpha_0.7.pkl', 'outputs/model_alpha_0.8.pkl', 'outputs/model_alpha_0.9.pkl', 'outputs/model_alpha_1.pkl']\n"
        }
      ],
      "execution_count": 36,
      "metadata": {
        "jupyter": {
          "source_hidden": false,
          "outputs_hidden": false
        },
        "nteract": {
          "transient": {
            "deleting": false
          }
        },
        "gather": {
          "logged": 1683506952383
        }
      }
    },
    {
      "cell_type": "code",
      "source": [
        "import numpy as np\r\n",
        "from azureml.core import Dataset\r\n",
        "\r\n",
        "np.savetxt('features.csv',X_train ,delimiter=',')\r\n",
        "np.savetxt('labels.csv', y_train, delimiter=',')\r\n",
        "\r\n",
        "datastore = ws.get_default_datastore()\r\n",
        "\r\n",
        "datastore.upload_files(files=['./features.csv','./labels.csv'],\r\n",
        "                        target_path='diabetes-experiment/',\r\n",
        "                        overwrite=True)"
      ],
      "outputs": [
        {
          "output_type": "stream",
          "name": "stderr",
          "text": "\"datastore.upload_files\" is deprecated after version 1.0.69. Please use \"FileDatasetFactory.upload_directory\" instead. See Dataset API change notice at https://aka.ms/dataset-deprecation.\n"
        },
        {
          "output_type": "stream",
          "name": "stdout",
          "text": "Uploading an estimated of 2 files\nUploading ./features.csv\nUploaded ./features.csv, 1 files out of an estimated total of 2\nUploading ./labels.csv\nUploaded ./labels.csv, 2 files out of an estimated total of 2\nUploaded 2 files\n"
        },
        {
          "output_type": "execute_result",
          "execution_count": 38,
          "data": {
            "text/plain": "$AZUREML_DATAREFERENCE_dc14bd0e6da345a98f22befb32783fae"
          },
          "metadata": {}
        }
      ],
      "execution_count": 38,
      "metadata": {
        "jupyter": {
          "source_hidden": false,
          "outputs_hidden": false
        },
        "nteract": {
          "transient": {
            "deleting": false
          }
        },
        "gather": {
          "logged": 1683508663013
        }
      }
    },
    {
      "cell_type": "code",
      "source": [
        "feature_dataset = Dataset.Tabular.from_delimited_files(path=[(datastore, 'diabetes-experiment/features.csv')])\r\n",
        "label_dataset = Dataset.Tabular.from_delimited_files(path=[(datastore, 'diabetes-experiment/labels.csv')])"
      ],
      "outputs": [],
      "execution_count": 39,
      "metadata": {
        "jupyter": {
          "source_hidden": false,
          "outputs_hidden": false
        },
        "nteract": {
          "transient": {
            "deleting": false
          }
        },
        "gather": {
          "logged": 1683509288630
        }
      }
    },
    {
      "cell_type": "code",
      "source": [
        "import sklearn\r\n",
        "\r\n",
        "from azureml.core import Model\r\n",
        "from azureml.core.resource_configuration import ResourceConfiguration"
      ],
      "outputs": [],
      "execution_count": 44,
      "metadata": {
        "jupyter": {
          "source_hidden": false,
          "outputs_hidden": false
        },
        "nteract": {
          "transient": {
            "deleting": false
          }
        },
        "gather": {
          "logged": 1683509507565
        }
      }
    },
    {
      "cell_type": "code",
      "source": [
        "# 모델의 등록\r\n",
        "model = Model.register(workspace=ws,\r\n",
        "                model_name='diabetes-experiment-model',\r\n",
        "                model_path= f'./{str(best_run.get_file_names()[0])}',\r\n",
        "                model_framework=Model.Framework.SCIKITLEARN,\r\n",
        "                model_framework_version=sklearn.__version__,\r\n",
        "                sample_input_dataset=feature_dataset,\r\n",
        "                sample_output_dataset=label_dataset,\r\n",
        "                resource_configuration=ResourceConfiguration(cpu=1, memory_in_gb=0.5),\r\n",
        "                description='Ridge regression model to predict diabetes progression',\r\n",
        "                tags={'area':'diabetes','type':'regression'}\r\n",
        "                )"
      ],
      "outputs": [
        {
          "output_type": "stream",
          "name": "stdout",
          "text": "Registering model diabetes-experiment-model\n"
        }
      ],
      "execution_count": 45,
      "metadata": {
        "jupyter": {
          "source_hidden": false,
          "outputs_hidden": false
        },
        "nteract": {
          "transient": {
            "deleting": false
          }
        },
        "gather": {
          "logged": 1683510622381
        }
      }
    },
    {
      "cell_type": "code",
      "source": [
        "print('Model name:', model.name)\r\n",
        "print('Model version:', model.version)"
      ],
      "outputs": [
        {
          "output_type": "stream",
          "name": "stdout",
          "text": "Model name: diabetes-experiment-model\nModel version: 1\n"
        }
      ],
      "execution_count": 46,
      "metadata": {
        "jupyter": {
          "source_hidden": false,
          "outputs_hidden": false
        },
        "nteract": {
          "transient": {
            "deleting": false
          }
        },
        "gather": {
          "logged": 1683510876717
        }
      }
    },
    {
      "cell_type": "code",
      "source": [
        "# 모델의 배포\r\n",
        "service_name = 'diabetes-service'\r\n",
        "\r\n",
        "service = Model.deploy(ws, service_name, [model], overwrite=True)\r\n",
        "service.wait_for_deployment(show_output=True)"
      ],
      "outputs": [
        {
          "output_type": "stream",
          "name": "stderr",
          "text": "/tmp/ipykernel_94669/3113934704.py:4: FutureWarning: azureml.core.model:\nTo leverage new model deployment capabilities, AzureML recommends using CLI/SDK v2 to deploy models as online endpoint, \nplease refer to respective documentations \nhttps://docs.microsoft.com/azure/machine-learning/how-to-deploy-managed-online-endpoints /\nhttps://docs.microsoft.com/azure/machine-learning/how-to-attach-kubernetes-anywhere \nFor more information on migration, see https://aka.ms/acimoemigration \nTo disable CLI/SDK v1 deprecation warning set AZUREML_LOG_DEPRECATION_WARNING_ENABLED to 'False'\n  service = Model.deploy(ws, service_name, [model], overwrite=True)\n"
        },
        {
          "output_type": "stream",
          "name": "stdout",
          "text": "Tips: You can try get_logs(): https://aka.ms/debugimage#dockerlog or local deployment: https://aka.ms/debugimage#debug-locally to debug if deployment takes longer than 10 minutes.\nRunning\n2023-05-08 02:13:28+00:00 Creating Container Registry if not exists..\n2023-05-08 02:23:29+00:00 Registering the environment.\n2023-05-08 02:23:32+00:00 Uploading autogenerated assets for no-code-deployment..\n2023-05-08 02:23:36+00:00 Building image..\n2023-05-08 02:33:51+00:00 Generating deployment configuration.\n2023-05-08 02:33:53+00:00 Submitting deployment to compute..\n2023-05-08 02:34:03+00:00 Checking the status of deployment diabetes-service..\n2023-05-08 02:35:08+00:00 Checking the status of inference endpoint diabetes-service.\nSucceeded\nACI service creation operation finished, operation \"Succeeded\"\n"
        }
      ],
      "execution_count": 47,
      "metadata": {
        "jupyter": {
          "source_hidden": false,
          "outputs_hidden": false
        },
        "nteract": {
          "transient": {
            "deleting": false
          }
        },
        "gather": {
          "logged": 1683513314923
        }
      }
    },
    {
      "cell_type": "code",
      "source": [
        "import json\r\n",
        "\r\n",
        "\r\n",
        "input_payload = json.dumps({\r\n",
        "    'data': X_train[0:2].values.tolist(),\r\n",
        "    'method': 'predict'\r\n",
        "})\r\n",
        "\r\n",
        "output = service.run(input_payload)\r\n",
        "\r\n",
        "print(output)"
      ],
      "outputs": [
        {
          "output_type": "stream",
          "name": "stdout",
          "text": "{'predict': [204.94506937062147, 74.46412259335534]}\n"
        }
      ],
      "execution_count": 48,
      "metadata": {
        "jupyter": {
          "source_hidden": false,
          "outputs_hidden": false
        },
        "nteract": {
          "transient": {
            "deleting": false
          }
        },
        "gather": {
          "logged": 1683513894436
        }
      }
    },
    {
      "cell_type": "code",
      "source": [],
      "outputs": [],
      "execution_count": null,
      "metadata": {
        "jupyter": {
          "source_hidden": false,
          "outputs_hidden": false
        },
        "nteract": {
          "transient": {
            "deleting": false
          }
        }
      }
    }
  ],
  "metadata": {
    "kernelspec": {
      "name": "python38-azureml",
      "language": "python",
      "display_name": "Python 3.8 - AzureML"
    },
    "language_info": {
      "name": "python",
      "version": "3.8.5",
      "mimetype": "text/x-python",
      "codemirror_mode": {
        "name": "ipython",
        "version": 3
      },
      "pygments_lexer": "ipython3",
      "nbconvert_exporter": "python",
      "file_extension": ".py"
    },
    "microsoft": {
      "ms_spell_check": {
        "ms_spell_check_language": "en"
      },
      "host": {
        "AzureML": {
          "notebookHasBeenCompleted": true
        }
      }
    },
    "kernel_info": {
      "name": "python38-azureml"
    },
    "nteract": {
      "version": "nteract-front-end@1.0.0"
    }
  },
  "nbformat": 4,
  "nbformat_minor": 2
}
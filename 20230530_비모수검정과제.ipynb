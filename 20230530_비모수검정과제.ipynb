{
  "nbformat": 4,
  "nbformat_minor": 0,
  "metadata": {
    "colab": {
      "provenance": [],
      "authorship_tag": "ABX9TyOcz3lYjFJEeGT13TDOx8ja",
      "include_colab_link": true
    },
    "kernelspec": {
      "name": "python3",
      "display_name": "Python 3"
    },
    "language_info": {
      "name": "python"
    }
  },
  "cells": [
    {
      "cell_type": "markdown",
      "metadata": {
        "id": "view-in-github",
        "colab_type": "text"
      },
      "source": [
        "<a href=\"https://colab.research.google.com/github/J-o-y-y/ms_ai_school/blob/main/20230530_%EB%B9%84%EB%AA%A8%EC%88%98%EA%B2%80%EC%A0%95%EA%B3%BC%EC%A0%9C.ipynb\" target=\"_parent\"><img src=\"https://colab.research.google.com/assets/colab-badge.svg\" alt=\"Open In Colab\"/></a>"
      ]
    },
    {
      "cell_type": "markdown",
      "source": [
        "비모수 검정 과제\n",
        "\n",
        "\n",
        "\n",
        "간단하게 그룹1, 그룹2 랜덤하게 100개씩 데이터를 만들어서 Wilcoxon signed-rank test 실시. \n",
        "\n",
        "결과를 해석하고 5월 30일 오전 9시 전까지 제출. \n",
        "\n",
        "보고서 : 데이터 생성 사진, 결과 사진, 해석.\n",
        "\n",
        "\n",
        "\n",
        "Wilcoxon 서명 순위 검정\"을 실제 데이터에 적용하여 그 결과를 분석하고 보고서를 작성.\n",
        "데이터 생성: 그룹 1과 그룹 2에 각각 랜덤하게 100개의 데이터를 생성.\n",
        "import numpy as np\n",
        "\n",
        "\n",
        "# Seed for reproducibility\n",
        "np.random.seed(0)\n",
        "\n",
        "\n",
        "# Group 1: 100 random values\n",
        "group1 = np.random.normal(0, 1, 100)\n",
        "\n",
        "\n",
        "# Group 2: 100 random values\n",
        "group2 = np.random.normal(0, 1, 100)\n",
        "\n",
        "\n",
        "\n",
        "\n",
        "검정 실시: 생성한 데이터에 Wilcoxon 서명 순위 검정을 적용합니다. 이 검정은 통계적 소프트웨어를 통해 수행.\n",
        "from scipy.stats import wilcoxon\n",
        "\n",
        "\n",
        "# Perform the Wilcoxon signed-rank test\n",
        "w, p = wilcoxon(group1, group2)\n",
        "\n",
        "\n",
        "print(\"Wilcoxon signed-rank test p-value:\", p)\n",
        "\n",
        "\n",
        "결과 해석: 검정 결과를 해석합니다. Wilcoxon 서명 순위 검정의 결과는 p-value라는 값을 통해 얻게 되는데, 이 값이 0.05 미만이라면 그룹 1과 그룹 2 사이에 통계적으로 유의미한 차이가 있다고 할 수 있습니다.\n",
        "# Interpret the result\n",
        "if p < 0.05:\n",
        "    print(\"There is a statistically significant difference between the two groups.\")\n",
        "else:\n",
        "    print(\"There is no statistically significant difference between the two groups.\")\n",
        "\n",
        "\n",
        "\n",
        "\n",
        "결과 :  Wilcoxon 서명 순위 검정을 이용한 그룹 간 차이 분석\n",
        "실험 설계:\n",
        "두 집단 간의 차이를 비모수적 방법으로 검증하기 위해 Wilcoxon 서명 순위 검정을 사용하였습니다. 이 검정 방법은 데이터가 정규 분포를 따르지 않는 경우에도 사용할 수 있으며, 같은 대상에 대한 두 가지 측정치(예: 약물 투여 전후 측정치)의 차이를 검증하는 데 적합합니다.\n",
        "데이터 생성:\n",
        "그룹 1과 그룹 2에 대해 각각 100개의 랜덤 값을 생성하였습니다. 이 값들은 평균이 0이고 표준편차가 1인 정규 분포에서 추출되었습니다.\n",
        "검정 실시:\n",
        "Wilcoxon 서명 순위 검정을 이용하여 그룹 1과 그룹 2의 차이를 검증하였습니다. 이 검정을 통해 얻은 p-value 값은 통계적 유의성을 판단하는 기준이 됩니다.\n",
        "결과 해석:\n",
        "p-value 값이 0.05 미만인 경우, 그룹 1과 그룹 2 사이에는 통계적으로 유의미한 차이가 있다고 판단합니다. 그렇지 않다면, 두 그룹 사이에 통계적으로 유의미한 차이가 없다고 결론 내립니다.\n",
        "이 실험은 두 집단 간의 차이를 확인하는 데 Wilcoxon 서명 순위 검정이 어떻게 사용되는지를 보여줍니다. 이 검정 방법은 데이터가 정규 분포를 따르지 않거나, 데이터의 크기(샘플 수)가 작은 경우에도 효과적입니다. 또한, 같은 대상의 두 가지 측정치(예: 전후 측정치)의 차이를 분석하는 데 유용하게 사용됩니다.\n",
        "\n",
        "\n",
        "\n",
        "\n",
        "\n",
        "\n",
        "\n",
        "\n",
        "참고 : Wilcoxon signed-rank test는 정규분포를 따르지 않는 데이터에 대해 두 집단의 차이가 있는지 검정하는 비모수 검정 방법 중 하나입니다. 예를 들어, 한 집단의 대응되는 다른 집단과의 차이를 검정하거나, 두 집단의 독립적인 샘플들 간의 차이를 검정하는 경우에 사용할 수 있습니다.\n"
      ],
      "metadata": {
        "id": "OrPFWIu5umHd"
      }
    },
    {
      "cell_type": "code",
      "execution_count": 1,
      "metadata": {
        "id": "93yTsbd8sPSQ"
      },
      "outputs": [],
      "source": [
        "import numpy as np\n",
        "\n",
        "# Seed for reproducibility\n",
        "np.random.seed(0)\n",
        "\n",
        "# Group 1: 100 random values\n",
        "group1 = np.random.normal(0, 1, 100)\n",
        "\n",
        "# Group 2: 100 random values\n",
        "group2 = np.random.normal(0, 1, 100)\n"
      ]
    },
    {
      "cell_type": "code",
      "source": [
        "from scipy.stats import wilcoxon\n",
        "\n",
        "# Perform the Wilcoxon signed-rank test\n",
        "w, p = wilcoxon(group1, group2)\n",
        "\n",
        "print(\"Wilcoxon signed-rank test p-value:\", p)\n"
      ],
      "metadata": {
        "colab": {
          "base_uri": "https://localhost:8080/"
        },
        "id": "doaQ9RTxs40F",
        "outputId": "be50dfa1-5518-49fc-b571-1c365f5fcf02"
      },
      "execution_count": 2,
      "outputs": [
        {
          "output_type": "stream",
          "name": "stdout",
          "text": [
            "Wilcoxon signed-rank test p-value: 0.9178441245028052\n"
          ]
        }
      ]
    },
    {
      "cell_type": "code",
      "source": [
        "# Interpret the result\n",
        "if p < 0.05:\n",
        "    print(\"There is a statistically significant difference between the two groups.\")\n",
        "else:\n",
        "    print(\"There is no statistically significant difference between the two groups.\")\n"
      ],
      "metadata": {
        "colab": {
          "base_uri": "https://localhost:8080/"
        },
        "id": "UuiTShHftEeu",
        "outputId": "f8a64531-c82a-4b4b-9309-e08df3351563"
      },
      "execution_count": 3,
      "outputs": [
        {
          "output_type": "stream",
          "name": "stdout",
          "text": [
            "There is no statistically significant difference between the two groups.\n"
          ]
        }
      ]
    }
  ]
}